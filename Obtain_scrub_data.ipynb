{
 "cells": [
  {
   "cell_type": "markdown",
   "metadata": {},
   "source": [
    "# Import libraries"
   ]
  },
  {
   "cell_type": "code",
   "execution_count": 1,
   "metadata": {},
   "outputs": [],
   "source": [
    "from google.cloud import bigquery\n",
    "import os\n",
    "from google.oauth2 import service_account\n",
    "import pandas as pd\n",
    "import pickle\n",
    "import seaborn as sns"
   ]
  },
  {
   "cell_type": "markdown",
   "metadata": {},
   "source": [
    "# Obtain data"
   ]
  },
  {
   "cell_type": "markdown",
   "metadata": {},
   "source": [
    "Set up client connection to bigquery api"
   ]
  },
  {
   "cell_type": "code",
   "execution_count": 2,
   "metadata": {},
   "outputs": [],
   "source": [
    "os.environ[\"GOOGLE_APPLICATION_CREDENTIALS\"]= None\n",
    "client = bigquery.Client()"
   ]
  },
  {
   "cell_type": "markdown",
   "metadata": {},
   "source": [
    "Get bigquery 'World Bank WDI' dataset"
   ]
  },
  {
   "cell_type": "code",
   "execution_count": 3,
   "metadata": {},
   "outputs": [],
   "source": [
    "dataset_id = client.dataset(\"world_bank_wdi\", project=\"bigquery-public-data\")\n",
    "dataset = client.get_dataset(dataset_id)"
   ]
  },
  {
   "cell_type": "markdown",
   "metadata": {},
   "source": [
    "View tables in dataset"
   ]
  },
  {
   "cell_type": "code",
   "execution_count": 4,
   "metadata": {},
   "outputs": [
    {
     "name": "stdout",
     "output_type": "stream",
     "text": [
      "country_series_definitions\n",
      "country_summary\n",
      "footnotes\n",
      "indicators_data\n",
      "series_summary\n",
      "series_time\n"
     ]
    }
   ],
   "source": [
    "tables = list(client.list_tables(dataset))\n",
    "for table in tables:\n",
    "    print(table.table_id)"
   ]
  },
  {
   "cell_type": "markdown",
   "metadata": {},
   "source": [
    "View indicators_data table"
   ]
  },
  {
   "cell_type": "code",
   "execution_count": 5,
   "metadata": {},
   "outputs": [
    {
     "name": "stdout",
     "output_type": "stream",
     "text": [
      "SchemaField('country_name', 'STRING', 'NULLABLE', '', (), None)\n",
      "SchemaField('country_code', 'STRING', 'NULLABLE', '', (), None)\n",
      "SchemaField('indicator_name', 'STRING', 'NULLABLE', '', (), None)\n",
      "SchemaField('indicator_code', 'STRING', 'NULLABLE', '', (), None)\n",
      "SchemaField('value', 'FLOAT', 'NULLABLE', '', (), None)\n",
      "SchemaField('year', 'INTEGER', 'NULLABLE', '', (), None)\n"
     ]
    },
    {
     "name": "stderr",
     "output_type": "stream",
     "text": [
      "/Users/blantj/opt/anaconda3/lib/python3.7/site-packages/google/cloud/bigquery/table.py:1690: UserWarning: Cannot use bqstorage_client if max_results is set, reverting to fetching data with the REST endpoint.\n",
      "  if not self._validate_bqstorage(bqstorage_client, create_bqstorage_client):\n"
     ]
    },
    {
     "data": {
      "text/html": [
       "<div>\n",
       "<style scoped>\n",
       "    .dataframe tbody tr th:only-of-type {\n",
       "        vertical-align: middle;\n",
       "    }\n",
       "\n",
       "    .dataframe tbody tr th {\n",
       "        vertical-align: top;\n",
       "    }\n",
       "\n",
       "    .dataframe thead th {\n",
       "        text-align: right;\n",
       "    }\n",
       "</style>\n",
       "<table border=\"1\" class=\"dataframe\">\n",
       "  <thead>\n",
       "    <tr style=\"text-align: right;\">\n",
       "      <th></th>\n",
       "      <th>country_name</th>\n",
       "      <th>country_code</th>\n",
       "      <th>indicator_name</th>\n",
       "      <th>indicator_code</th>\n",
       "      <th>value</th>\n",
       "      <th>year</th>\n",
       "    </tr>\n",
       "  </thead>\n",
       "  <tbody>\n",
       "    <tr>\n",
       "      <th>0</th>\n",
       "      <td>Arab World</td>\n",
       "      <td>ARB</td>\n",
       "      <td>Access to clean fuels and technologies for coo...</td>\n",
       "      <td>EG.CFT.ACCS.ZS</td>\n",
       "      <td>76.258066</td>\n",
       "      <td>2002</td>\n",
       "    </tr>\n",
       "    <tr>\n",
       "      <th>1</th>\n",
       "      <td>Arab World</td>\n",
       "      <td>ARB</td>\n",
       "      <td>Access to clean fuels and technologies for coo...</td>\n",
       "      <td>EG.CFT.ACCS.ZS</td>\n",
       "      <td>79.851681</td>\n",
       "      <td>2006</td>\n",
       "    </tr>\n",
       "    <tr>\n",
       "      <th>2</th>\n",
       "      <td>Arab World</td>\n",
       "      <td>ARB</td>\n",
       "      <td>Adjusted net enrollment rate, primary (% of pr...</td>\n",
       "      <td>SE.PRM.TENR</td>\n",
       "      <td>83.035000</td>\n",
       "      <td>2007</td>\n",
       "    </tr>\n",
       "    <tr>\n",
       "      <th>3</th>\n",
       "      <td>Arab World</td>\n",
       "      <td>ARB</td>\n",
       "      <td>Adjusted net enrollment rate, primary, male (%...</td>\n",
       "      <td>SE.PRM.TENR.MA</td>\n",
       "      <td>87.285710</td>\n",
       "      <td>2010</td>\n",
       "    </tr>\n",
       "    <tr>\n",
       "      <th>4</th>\n",
       "      <td>Arab World</td>\n",
       "      <td>ARB</td>\n",
       "      <td>Adjusted net national income (annual % growth)</td>\n",
       "      <td>NY.ADJ.NNTY.KD.ZG</td>\n",
       "      <td>4.627110</td>\n",
       "      <td>2017</td>\n",
       "    </tr>\n",
       "  </tbody>\n",
       "</table>\n",
       "</div>"
      ],
      "text/plain": [
       "  country_name country_code  \\\n",
       "0   Arab World          ARB   \n",
       "1   Arab World          ARB   \n",
       "2   Arab World          ARB   \n",
       "3   Arab World          ARB   \n",
       "4   Arab World          ARB   \n",
       "\n",
       "                                      indicator_name     indicator_code  \\\n",
       "0  Access to clean fuels and technologies for coo...     EG.CFT.ACCS.ZS   \n",
       "1  Access to clean fuels and technologies for coo...     EG.CFT.ACCS.ZS   \n",
       "2  Adjusted net enrollment rate, primary (% of pr...        SE.PRM.TENR   \n",
       "3  Adjusted net enrollment rate, primary, male (%...     SE.PRM.TENR.MA   \n",
       "4     Adjusted net national income (annual % growth)  NY.ADJ.NNTY.KD.ZG   \n",
       "\n",
       "       value  year  \n",
       "0  76.258066  2002  \n",
       "1  79.851681  2006  \n",
       "2  83.035000  2007  \n",
       "3  87.285710  2010  \n",
       "4   4.627110  2017  "
      ]
     },
     "execution_count": 5,
     "metadata": {},
     "output_type": "execute_result"
    }
   ],
   "source": [
    "table_id = dataset_id.table(\"indicators_data\")\n",
    "table = client.get_table(table_id)\n",
    "[print(item) for item in table.schema]\n",
    "client.list_rows(table, max_results=5).to_dataframe()"
   ]
  },
  {
   "cell_type": "markdown",
   "metadata": {},
   "source": [
    "Query anomoly detection dataset from indicators_data table"
   ]
  },
  {
   "cell_type": "code",
   "execution_count": 7,
   "metadata": {},
   "outputs": [],
   "source": [
    "indicators_query = \"\"\"\n",
    "        SELECT *\n",
    "        FROM `bigquery-public-data.world_bank_wdi.indicators_data`\n",
    "        WHERE indicator_name IN ('Adjusted net national income per capita (current US$)', \n",
    "                                 'Inflation, consumer prices (annual %)',\n",
    "                                 'Labor force, female (% of total labor force)',\n",
    "                                 'Urban population (% of total population)',\n",
    "                                 'Population growth (annual %)',\n",
    "                                 'Employment in services (% of total employment) (modeled ILO estimate)',\n",
    "                                 'Total debt service (% of GNI)',\n",
    "                                 'Compulsory education, duration (years)',\n",
    "                                 'Gross savings (% of GNI)',\n",
    "                                 'Hospital beds (per 1,000 people)')\"\"\"\n",
    "indicators_query_job = client.query(indicators_query)\n",
    "indicators_df = indicators_query_job.to_dataframe()\n",
    "indicators_df.to_csv('Excel/dataset.csv', index=False)"
   ]
  },
  {
   "cell_type": "markdown",
   "metadata": {},
   "source": [
    "# Scrub data"
   ]
  },
  {
   "cell_type": "markdown",
   "metadata": {},
   "source": [
    "Read df with indicators data into pandas"
   ]
  },
  {
   "cell_type": "code",
   "execution_count": 15,
   "metadata": {},
   "outputs": [
    {
     "data": {
      "text/html": [
       "<div>\n",
       "<style scoped>\n",
       "    .dataframe tbody tr th:only-of-type {\n",
       "        vertical-align: middle;\n",
       "    }\n",
       "\n",
       "    .dataframe tbody tr th {\n",
       "        vertical-align: top;\n",
       "    }\n",
       "\n",
       "    .dataframe thead th {\n",
       "        text-align: right;\n",
       "    }\n",
       "</style>\n",
       "<table border=\"1\" class=\"dataframe\">\n",
       "  <thead>\n",
       "    <tr style=\"text-align: right;\">\n",
       "      <th></th>\n",
       "      <th>country_name</th>\n",
       "      <th>country_code</th>\n",
       "      <th>indicator_name</th>\n",
       "      <th>indicator_code</th>\n",
       "      <th>value</th>\n",
       "      <th>year</th>\n",
       "    </tr>\n",
       "  </thead>\n",
       "  <tbody>\n",
       "    <tr>\n",
       "      <th>0</th>\n",
       "      <td>East Asia &amp; Pacific (excluding high income)</td>\n",
       "      <td>EAP</td>\n",
       "      <td>Gross savings (% of GNI)</td>\n",
       "      <td>NY.GNS.ICTR.GN.ZS</td>\n",
       "      <td>35.555550</td>\n",
       "      <td>1996</td>\n",
       "    </tr>\n",
       "    <tr>\n",
       "      <th>1</th>\n",
       "      <td>East Asia &amp; Pacific (excluding high income)</td>\n",
       "      <td>EAP</td>\n",
       "      <td>Gross savings (% of GNI)</td>\n",
       "      <td>NY.GNS.ICTR.GN.ZS</td>\n",
       "      <td>34.845872</td>\n",
       "      <td>2000</td>\n",
       "    </tr>\n",
       "    <tr>\n",
       "      <th>2</th>\n",
       "      <td>Eritrea</td>\n",
       "      <td>ERI</td>\n",
       "      <td>Gross savings (% of GNI)</td>\n",
       "      <td>NY.GNS.ICTR.GN.ZS</td>\n",
       "      <td>17.164867</td>\n",
       "      <td>1999</td>\n",
       "    </tr>\n",
       "    <tr>\n",
       "      <th>3</th>\n",
       "      <td>Guinea-Bissau</td>\n",
       "      <td>GNB</td>\n",
       "      <td>Gross savings (% of GNI)</td>\n",
       "      <td>NY.GNS.ICTR.GN.ZS</td>\n",
       "      <td>5.103593</td>\n",
       "      <td>2009</td>\n",
       "    </tr>\n",
       "    <tr>\n",
       "      <th>4</th>\n",
       "      <td>Hungary</td>\n",
       "      <td>HUN</td>\n",
       "      <td>Gross savings (% of GNI)</td>\n",
       "      <td>NY.GNS.ICTR.GN.ZS</td>\n",
       "      <td>20.204166</td>\n",
       "      <td>1995</td>\n",
       "    </tr>\n",
       "  </tbody>\n",
       "</table>\n",
       "</div>"
      ],
      "text/plain": [
       "                                  country_name country_code  \\\n",
       "0  East Asia & Pacific (excluding high income)          EAP   \n",
       "1  East Asia & Pacific (excluding high income)          EAP   \n",
       "2                                      Eritrea          ERI   \n",
       "3                                Guinea-Bissau          GNB   \n",
       "4                                      Hungary          HUN   \n",
       "\n",
       "             indicator_name     indicator_code      value  year  \n",
       "0  Gross savings (% of GNI)  NY.GNS.ICTR.GN.ZS  35.555550  1996  \n",
       "1  Gross savings (% of GNI)  NY.GNS.ICTR.GN.ZS  34.845872  2000  \n",
       "2  Gross savings (% of GNI)  NY.GNS.ICTR.GN.ZS  17.164867  1999  \n",
       "3  Gross savings (% of GNI)  NY.GNS.ICTR.GN.ZS   5.103593  2009  \n",
       "4  Gross savings (% of GNI)  NY.GNS.ICTR.GN.ZS  20.204166  1995  "
      ]
     },
     "execution_count": 15,
     "metadata": {},
     "output_type": "execute_result"
    }
   ],
   "source": [
    "df = pd.read_csv('Excel/dataset.csv')\n",
    "df.head()"
   ]
  },
  {
   "cell_type": "markdown",
   "metadata": {},
   "source": [
    "Remove rows with regional and other non-country country_names (which are specified in exclusions.csv) from the dataset"
   ]
  },
  {
   "cell_type": "code",
   "execution_count": 16,
   "metadata": {},
   "outputs": [
    {
     "data": {
      "text/html": [
       "<div>\n",
       "<style scoped>\n",
       "    .dataframe tbody tr th:only-of-type {\n",
       "        vertical-align: middle;\n",
       "    }\n",
       "\n",
       "    .dataframe tbody tr th {\n",
       "        vertical-align: top;\n",
       "    }\n",
       "\n",
       "    .dataframe thead th {\n",
       "        text-align: right;\n",
       "    }\n",
       "</style>\n",
       "<table border=\"1\" class=\"dataframe\">\n",
       "  <thead>\n",
       "    <tr style=\"text-align: right;\">\n",
       "      <th></th>\n",
       "      <th>country_code</th>\n",
       "      <th>country_name</th>\n",
       "      <th>indicator_name</th>\n",
       "      <th>indicator_code</th>\n",
       "      <th>value</th>\n",
       "      <th>year</th>\n",
       "    </tr>\n",
       "  </thead>\n",
       "  <tbody>\n",
       "    <tr>\n",
       "      <th>0</th>\n",
       "      <td>ERI</td>\n",
       "      <td>Eritrea</td>\n",
       "      <td>Gross savings (% of GNI)</td>\n",
       "      <td>NY.GNS.ICTR.GN.ZS</td>\n",
       "      <td>17.164867</td>\n",
       "      <td>1999</td>\n",
       "    </tr>\n",
       "    <tr>\n",
       "      <th>1</th>\n",
       "      <td>GNB</td>\n",
       "      <td>Guinea-Bissau</td>\n",
       "      <td>Gross savings (% of GNI)</td>\n",
       "      <td>NY.GNS.ICTR.GN.ZS</td>\n",
       "      <td>5.103593</td>\n",
       "      <td>2009</td>\n",
       "    </tr>\n",
       "    <tr>\n",
       "      <th>2</th>\n",
       "      <td>HUN</td>\n",
       "      <td>Hungary</td>\n",
       "      <td>Gross savings (% of GNI)</td>\n",
       "      <td>NY.GNS.ICTR.GN.ZS</td>\n",
       "      <td>20.204166</td>\n",
       "      <td>1995</td>\n",
       "    </tr>\n",
       "    <tr>\n",
       "      <th>3</th>\n",
       "      <td>NZL</td>\n",
       "      <td>New Zealand</td>\n",
       "      <td>Gross savings (% of GNI)</td>\n",
       "      <td>NY.GNS.ICTR.GN.ZS</td>\n",
       "      <td>19.410751</td>\n",
       "      <td>2007</td>\n",
       "    </tr>\n",
       "    <tr>\n",
       "      <th>4</th>\n",
       "      <td>GMB</td>\n",
       "      <td>Gambia, The</td>\n",
       "      <td>Gross savings (% of GNI)</td>\n",
       "      <td>NY.GNS.ICTR.GN.ZS</td>\n",
       "      <td>10.734246</td>\n",
       "      <td>1983</td>\n",
       "    </tr>\n",
       "  </tbody>\n",
       "</table>\n",
       "</div>"
      ],
      "text/plain": [
       "  country_code   country_name            indicator_name     indicator_code  \\\n",
       "0          ERI        Eritrea  Gross savings (% of GNI)  NY.GNS.ICTR.GN.ZS   \n",
       "1          GNB  Guinea-Bissau  Gross savings (% of GNI)  NY.GNS.ICTR.GN.ZS   \n",
       "2          HUN        Hungary  Gross savings (% of GNI)  NY.GNS.ICTR.GN.ZS   \n",
       "3          NZL    New Zealand  Gross savings (% of GNI)  NY.GNS.ICTR.GN.ZS   \n",
       "4          GMB    Gambia, The  Gross savings (% of GNI)  NY.GNS.ICTR.GN.ZS   \n",
       "\n",
       "       value  year  \n",
       "0  17.164867  1999  \n",
       "1   5.103593  2009  \n",
       "2  20.204166  1995  \n",
       "3  19.410751  2007  \n",
       "4  10.734246  1983  "
      ]
     },
     "execution_count": 16,
     "metadata": {},
     "output_type": "execute_result"
    }
   ],
   "source": [
    "exclusions_df = pd.read_csv('Excel/exclusions.csv')\n",
    "df.set_index('country_code', inplace=True)\n",
    "df.drop(exclusions_df['country_code'].values, inplace=True)\n",
    "df.reset_index(inplace=True)\n",
    "df.head()"
   ]
  },
  {
   "cell_type": "markdown",
   "metadata": {},
   "source": [
    "View number of repeated indicator measurements for the same country across different years"
   ]
  },
  {
   "cell_type": "code",
   "execution_count": 18,
   "metadata": {
    "scrolled": true
   },
   "outputs": [
    {
     "data": {
      "text/plain": [
       "Kenya Urban population (% of total population)          60\n",
       "South Sudan Urban population (% of total population)    60\n",
       "Mongolia Urban population (% of total population)       60\n",
       "Korea, Rep. Urban population (% of total population)    60\n",
       "Jamaica Urban population (% of total population)        60\n",
       "                                                        ..\n",
       "South Sudan Gross savings (% of GNI)                     2\n",
       "Eritrea Hospital beds (per 1,000 people)                 2\n",
       "Namibia Hospital beds (per 1,000 people)                 2\n",
       "South Africa Hospital beds (per 1,000 people)            1\n",
       "Tuvalu Hospital beds (per 1,000 people)                  1\n",
       "Name: country_indicator, Length: 1953, dtype: int64"
      ]
     },
     "execution_count": 18,
     "metadata": {},
     "output_type": "execute_result"
    }
   ],
   "source": [
    "df['country_indicator'] = df['country_name'] + ' ' + df['indicator_name']\n",
    "df['country_indicator'].value_counts()"
   ]
  },
  {
   "cell_type": "markdown",
   "metadata": {},
   "source": [
    "Create list specifying which df rows have the most recent annual measurements for their country/indicator combination"
   ]
  },
  {
   "cell_type": "code",
   "execution_count": 19,
   "metadata": {},
   "outputs": [],
   "source": [
    "def to_keep(row):\n",
    "    values = list(df[df['country_indicator']==row['country_indicator']]['year'].values)\n",
    "    if row['year'] == max(values):\n",
    "        return True\n",
    "    else:\n",
    "        return False\n",
    "    \n",
    "row_booleans = df.apply(to_keep, axis=1)\n",
    "df['keep'] = row_booleans"
   ]
  },
  {
   "cell_type": "markdown",
   "metadata": {},
   "source": [
    "Filter out df rows with outdated country indicator measurements"
   ]
  },
  {
   "cell_type": "code",
   "execution_count": 20,
   "metadata": {},
   "outputs": [
    {
     "name": "stdout",
     "output_type": "stream",
     "text": [
      "(1953, 7)\n"
     ]
    },
    {
     "name": "stderr",
     "output_type": "stream",
     "text": [
      "/Users/blantj/opt/anaconda3/lib/python3.7/site-packages/pandas/core/frame.py:4169: SettingWithCopyWarning: \n",
      "A value is trying to be set on a copy of a slice from a DataFrame\n",
      "\n",
      "See the caveats in the documentation: https://pandas.pydata.org/pandas-docs/stable/user_guide/indexing.html#returning-a-view-versus-a-copy\n",
      "  errors=errors,\n"
     ]
    },
    {
     "data": {
      "text/html": [
       "<div>\n",
       "<style scoped>\n",
       "    .dataframe tbody tr th:only-of-type {\n",
       "        vertical-align: middle;\n",
       "    }\n",
       "\n",
       "    .dataframe tbody tr th {\n",
       "        vertical-align: top;\n",
       "    }\n",
       "\n",
       "    .dataframe thead th {\n",
       "        text-align: right;\n",
       "    }\n",
       "</style>\n",
       "<table border=\"1\" class=\"dataframe\">\n",
       "  <thead>\n",
       "    <tr style=\"text-align: right;\">\n",
       "      <th></th>\n",
       "      <th>country_code</th>\n",
       "      <th>country_name</th>\n",
       "      <th>indicator_name</th>\n",
       "      <th>indicator_code</th>\n",
       "      <th>value</th>\n",
       "      <th>year</th>\n",
       "      <th>country_indicator</th>\n",
       "    </tr>\n",
       "  </thead>\n",
       "  <tbody>\n",
       "    <tr>\n",
       "      <th>35</th>\n",
       "      <td>HUN</td>\n",
       "      <td>Hungary</td>\n",
       "      <td>Gross savings (% of GNI)</td>\n",
       "      <td>NY.GNS.ICTR.GN.ZS</td>\n",
       "      <td>28.992088</td>\n",
       "      <td>2019</td>\n",
       "      <td>Hungary Gross savings (% of GNI)</td>\n",
       "    </tr>\n",
       "    <tr>\n",
       "      <th>65</th>\n",
       "      <td>CYP</td>\n",
       "      <td>Cyprus</td>\n",
       "      <td>Gross savings (% of GNI)</td>\n",
       "      <td>NY.GNS.ICTR.GN.ZS</td>\n",
       "      <td>14.531399</td>\n",
       "      <td>2019</td>\n",
       "      <td>Cyprus Gross savings (% of GNI)</td>\n",
       "    </tr>\n",
       "    <tr>\n",
       "      <th>72</th>\n",
       "      <td>ETH</td>\n",
       "      <td>Ethiopia</td>\n",
       "      <td>Gross savings (% of GNI)</td>\n",
       "      <td>NY.GNS.ICTR.GN.ZS</td>\n",
       "      <td>33.312217</td>\n",
       "      <td>2018</td>\n",
       "      <td>Ethiopia Gross savings (% of GNI)</td>\n",
       "    </tr>\n",
       "    <tr>\n",
       "      <th>89</th>\n",
       "      <td>GBR</td>\n",
       "      <td>United Kingdom</td>\n",
       "      <td>Gross savings (% of GNI)</td>\n",
       "      <td>NY.GNS.ICTR.GN.ZS</td>\n",
       "      <td>13.790267</td>\n",
       "      <td>2019</td>\n",
       "      <td>United Kingdom Gross savings (% of GNI)</td>\n",
       "    </tr>\n",
       "    <tr>\n",
       "      <th>110</th>\n",
       "      <td>ITA</td>\n",
       "      <td>Italy</td>\n",
       "      <td>Gross savings (% of GNI)</td>\n",
       "      <td>NY.GNS.ICTR.GN.ZS</td>\n",
       "      <td>20.763017</td>\n",
       "      <td>2019</td>\n",
       "      <td>Italy Gross savings (% of GNI)</td>\n",
       "    </tr>\n",
       "  </tbody>\n",
       "</table>\n",
       "</div>"
      ],
      "text/plain": [
       "    country_code    country_name            indicator_name     indicator_code  \\\n",
       "35           HUN         Hungary  Gross savings (% of GNI)  NY.GNS.ICTR.GN.ZS   \n",
       "65           CYP          Cyprus  Gross savings (% of GNI)  NY.GNS.ICTR.GN.ZS   \n",
       "72           ETH        Ethiopia  Gross savings (% of GNI)  NY.GNS.ICTR.GN.ZS   \n",
       "89           GBR  United Kingdom  Gross savings (% of GNI)  NY.GNS.ICTR.GN.ZS   \n",
       "110          ITA           Italy  Gross savings (% of GNI)  NY.GNS.ICTR.GN.ZS   \n",
       "\n",
       "         value  year                        country_indicator  \n",
       "35   28.992088  2019         Hungary Gross savings (% of GNI)  \n",
       "65   14.531399  2019          Cyprus Gross savings (% of GNI)  \n",
       "72   33.312217  2018        Ethiopia Gross savings (% of GNI)  \n",
       "89   13.790267  2019  United Kingdom Gross savings (% of GNI)  \n",
       "110  20.763017  2019           Italy Gross savings (% of GNI)  "
      ]
     },
     "execution_count": 20,
     "metadata": {},
     "output_type": "execute_result"
    }
   ],
   "source": [
    "pre_pivot_df = df[df['keep']==True]\n",
    "pre_pivot_df.drop(columns=['keep'], inplace=True)\n",
    "print(pre_pivot_df.shape)\n",
    "pre_pivot_df.head()"
   ]
  },
  {
   "cell_type": "markdown",
   "metadata": {},
   "source": [
    "Pivot indicator measurements table to countries as row indices, and indicators as column indices"
   ]
  },
  {
   "cell_type": "code",
   "execution_count": 21,
   "metadata": {},
   "outputs": [
    {
     "data": {
      "text/html": [
       "<div>\n",
       "<style scoped>\n",
       "    .dataframe tbody tr th:only-of-type {\n",
       "        vertical-align: middle;\n",
       "    }\n",
       "\n",
       "    .dataframe tbody tr th {\n",
       "        vertical-align: top;\n",
       "    }\n",
       "\n",
       "    .dataframe thead th {\n",
       "        text-align: right;\n",
       "    }\n",
       "</style>\n",
       "<table border=\"1\" class=\"dataframe\">\n",
       "  <thead>\n",
       "    <tr style=\"text-align: right;\">\n",
       "      <th>indicator_name</th>\n",
       "      <th>Adjusted net national income per capita (current US$)</th>\n",
       "      <th>Air transport, passengers carried</th>\n",
       "      <th>Compulsory education, duration (years)</th>\n",
       "      <th>Employment in services (% of total employment) (modeled ILO estimate)</th>\n",
       "      <th>Gross savings (% of GNI)</th>\n",
       "      <th>Hospital beds (per 1,000 people)</th>\n",
       "      <th>Inflation, consumer prices (annual %)</th>\n",
       "      <th>Labor force, female (% of total labor force)</th>\n",
       "      <th>Population growth (annual %)</th>\n",
       "      <th>Total debt service (% of GNI)</th>\n",
       "      <th>Urban population (% of total population)</th>\n",
       "    </tr>\n",
       "    <tr>\n",
       "      <th>country_name</th>\n",
       "      <th></th>\n",
       "      <th></th>\n",
       "      <th></th>\n",
       "      <th></th>\n",
       "      <th></th>\n",
       "      <th></th>\n",
       "      <th></th>\n",
       "      <th></th>\n",
       "      <th></th>\n",
       "      <th></th>\n",
       "      <th></th>\n",
       "    </tr>\n",
       "  </thead>\n",
       "  <tbody>\n",
       "    <tr>\n",
       "      <th>Afghanistan</th>\n",
       "      <td>458.370738</td>\n",
       "      <td>1722612.61</td>\n",
       "      <td>9.0</td>\n",
       "      <td>39.396000</td>\n",
       "      <td>18.558666</td>\n",
       "      <td>0.5</td>\n",
       "      <td>2.302373</td>\n",
       "      <td>21.618689</td>\n",
       "      <td>2.311817</td>\n",
       "      <td>0.286377</td>\n",
       "      <td>25.754</td>\n",
       "    </tr>\n",
       "    <tr>\n",
       "      <th>Albania</th>\n",
       "      <td>4201.077084</td>\n",
       "      <td>303137.00</td>\n",
       "      <td>9.0</td>\n",
       "      <td>43.662998</td>\n",
       "      <td>14.438802</td>\n",
       "      <td>2.9</td>\n",
       "      <td>1.411091</td>\n",
       "      <td>41.471734</td>\n",
       "      <td>-0.426007</td>\n",
       "      <td>4.299708</td>\n",
       "      <td>61.229</td>\n",
       "    </tr>\n",
       "    <tr>\n",
       "      <th>Algeria</th>\n",
       "      <td>3098.851733</td>\n",
       "      <td>6442442.00</td>\n",
       "      <td>10.0</td>\n",
       "      <td>59.638000</td>\n",
       "      <td>38.383538</td>\n",
       "      <td>1.9</td>\n",
       "      <td>1.951768</td>\n",
       "      <td>17.671559</td>\n",
       "      <td>1.933950</td>\n",
       "      <td>0.117442</td>\n",
       "      <td>73.189</td>\n",
       "    </tr>\n",
       "    <tr>\n",
       "      <th>Andorra</th>\n",
       "      <td>NaN</td>\n",
       "      <td>NaN</td>\n",
       "      <td>10.0</td>\n",
       "      <td>NaN</td>\n",
       "      <td>NaN</td>\n",
       "      <td>2.5</td>\n",
       "      <td>NaN</td>\n",
       "      <td>NaN</td>\n",
       "      <td>0.176454</td>\n",
       "      <td>NaN</td>\n",
       "      <td>87.984</td>\n",
       "    </tr>\n",
       "    <tr>\n",
       "      <th>Angola</th>\n",
       "      <td>1028.564719</td>\n",
       "      <td>1516628.00</td>\n",
       "      <td>6.0</td>\n",
       "      <td>41.730999</td>\n",
       "      <td>27.280625</td>\n",
       "      <td>0.8</td>\n",
       "      <td>17.145320</td>\n",
       "      <td>50.293109</td>\n",
       "      <td>3.242983</td>\n",
       "      <td>11.020077</td>\n",
       "      <td>66.177</td>\n",
       "    </tr>\n",
       "  </tbody>\n",
       "</table>\n",
       "</div>"
      ],
      "text/plain": [
       "indicator_name  Adjusted net national income per capita (current US$)  \\\n",
       "country_name                                                            \n",
       "Afghanistan                                            458.370738       \n",
       "Albania                                               4201.077084       \n",
       "Algeria                                               3098.851733       \n",
       "Andorra                                                       NaN       \n",
       "Angola                                                1028.564719       \n",
       "\n",
       "indicator_name  Air transport, passengers carried  \\\n",
       "country_name                                        \n",
       "Afghanistan                            1722612.61   \n",
       "Albania                                 303137.00   \n",
       "Algeria                                6442442.00   \n",
       "Andorra                                       NaN   \n",
       "Angola                                 1516628.00   \n",
       "\n",
       "indicator_name  Compulsory education, duration (years)  \\\n",
       "country_name                                             \n",
       "Afghanistan                                        9.0   \n",
       "Albania                                            9.0   \n",
       "Algeria                                           10.0   \n",
       "Andorra                                           10.0   \n",
       "Angola                                             6.0   \n",
       "\n",
       "indicator_name  Employment in services (% of total employment) (modeled ILO estimate)  \\\n",
       "country_name                                                                            \n",
       "Afghanistan                                             39.396000                       \n",
       "Albania                                                 43.662998                       \n",
       "Algeria                                                 59.638000                       \n",
       "Andorra                                                       NaN                       \n",
       "Angola                                                  41.730999                       \n",
       "\n",
       "indicator_name  Gross savings (% of GNI)  Hospital beds (per 1,000 people)  \\\n",
       "country_name                                                                 \n",
       "Afghanistan                    18.558666                               0.5   \n",
       "Albania                        14.438802                               2.9   \n",
       "Algeria                        38.383538                               1.9   \n",
       "Andorra                              NaN                               2.5   \n",
       "Angola                         27.280625                               0.8   \n",
       "\n",
       "indicator_name  Inflation, consumer prices (annual %)  \\\n",
       "country_name                                            \n",
       "Afghanistan                                  2.302373   \n",
       "Albania                                      1.411091   \n",
       "Algeria                                      1.951768   \n",
       "Andorra                                           NaN   \n",
       "Angola                                      17.145320   \n",
       "\n",
       "indicator_name  Labor force, female (% of total labor force)  \\\n",
       "country_name                                                   \n",
       "Afghanistan                                        21.618689   \n",
       "Albania                                            41.471734   \n",
       "Algeria                                            17.671559   \n",
       "Andorra                                                  NaN   \n",
       "Angola                                             50.293109   \n",
       "\n",
       "indicator_name  Population growth (annual %)  Total debt service (% of GNI)  \\\n",
       "country_name                                                                  \n",
       "Afghanistan                         2.311817                       0.286377   \n",
       "Albania                            -0.426007                       4.299708   \n",
       "Algeria                             1.933950                       0.117442   \n",
       "Andorra                             0.176454                            NaN   \n",
       "Angola                              3.242983                      11.020077   \n",
       "\n",
       "indicator_name  Urban population (% of total population)  \n",
       "country_name                                              \n",
       "Afghanistan                                       25.754  \n",
       "Albania                                           61.229  \n",
       "Algeria                                           73.189  \n",
       "Andorra                                           87.984  \n",
       "Angola                                            66.177  "
      ]
     },
     "execution_count": 21,
     "metadata": {},
     "output_type": "execute_result"
    }
   ],
   "source": [
    "wb_df = pre_pivot_df.pivot(index='country_name', columns='indicator_name', values='value')\n",
    "wb_df.head()"
   ]
  },
  {
   "cell_type": "markdown",
   "metadata": {},
   "source": [
    "Perform wb_df.info() to understand what further scrubbing needed"
   ]
  },
  {
   "cell_type": "code",
   "execution_count": 22,
   "metadata": {},
   "outputs": [
    {
     "name": "stdout",
     "output_type": "stream",
     "text": [
      "<class 'pandas.core.frame.DataFrame'>\n",
      "Index: 196 entries, Afghanistan to Zimbabwe\n",
      "Data columns (total 11 columns):\n",
      " #   Column                                                                 Non-Null Count  Dtype  \n",
      "---  ------                                                                 --------------  -----  \n",
      " 0   Adjusted net national income per capita (current US$)                  180 non-null    float64\n",
      " 1   Air transport, passengers carried                                      181 non-null    float64\n",
      " 2   Compulsory education, duration (years)                                 183 non-null    float64\n",
      " 3   Employment in services (% of total employment) (modeled ILO estimate)  178 non-null    float64\n",
      " 4   Gross savings (% of GNI)                                               171 non-null    float64\n",
      " 5   Hospital beds (per 1,000 people)                                       191 non-null    float64\n",
      " 6   Inflation, consumer prices (annual %)                                  181 non-null    float64\n",
      " 7   Labor force, female (% of total labor force)                           178 non-null    float64\n",
      " 8   Population growth (annual %)                                           196 non-null    float64\n",
      " 9   Total debt service (% of GNI)                                          119 non-null    float64\n",
      " 10  Urban population (% of total population)                               195 non-null    float64\n",
      "dtypes: float64(11)\n",
      "memory usage: 18.4+ KB\n"
     ]
    }
   ],
   "source": [
    "wb_df.info()"
   ]
  },
  {
   "cell_type": "markdown",
   "metadata": {},
   "source": [
    "Drop 'Total debt service (% of GNI)' column due to the large number of missing values"
   ]
  },
  {
   "cell_type": "code",
   "execution_count": 87,
   "metadata": {},
   "outputs": [
    {
     "data": {
      "text/html": [
       "<div>\n",
       "<style scoped>\n",
       "    .dataframe tbody tr th:only-of-type {\n",
       "        vertical-align: middle;\n",
       "    }\n",
       "\n",
       "    .dataframe tbody tr th {\n",
       "        vertical-align: top;\n",
       "    }\n",
       "\n",
       "    .dataframe thead th {\n",
       "        text-align: right;\n",
       "    }\n",
       "</style>\n",
       "<table border=\"1\" class=\"dataframe\">\n",
       "  <thead>\n",
       "    <tr style=\"text-align: right;\">\n",
       "      <th>indicator_name</th>\n",
       "      <th>Adjusted net national income per capita (current US$)</th>\n",
       "      <th>Compulsory education, duration (years)</th>\n",
       "      <th>Employment in services (% of total employment) (modeled ILO estimate)</th>\n",
       "      <th>Gross savings (% of GNI)</th>\n",
       "      <th>Hospital beds (per 1,000 people)</th>\n",
       "      <th>Inflation, consumer prices (annual %)</th>\n",
       "      <th>Labor force, female (% of total labor force)</th>\n",
       "      <th>Population growth (annual %)</th>\n",
       "      <th>Urban population (% of total population)</th>\n",
       "    </tr>\n",
       "    <tr>\n",
       "      <th>country_name</th>\n",
       "      <th></th>\n",
       "      <th></th>\n",
       "      <th></th>\n",
       "      <th></th>\n",
       "      <th></th>\n",
       "      <th></th>\n",
       "      <th></th>\n",
       "      <th></th>\n",
       "      <th></th>\n",
       "    </tr>\n",
       "  </thead>\n",
       "  <tbody>\n",
       "    <tr>\n",
       "      <th>Afghanistan</th>\n",
       "      <td>458.370738</td>\n",
       "      <td>9.0</td>\n",
       "      <td>39.396000</td>\n",
       "      <td>18.558666</td>\n",
       "      <td>0.5</td>\n",
       "      <td>2.302373</td>\n",
       "      <td>21.618689</td>\n",
       "      <td>2.311817</td>\n",
       "      <td>25.754</td>\n",
       "    </tr>\n",
       "    <tr>\n",
       "      <th>Albania</th>\n",
       "      <td>4201.077084</td>\n",
       "      <td>9.0</td>\n",
       "      <td>43.662998</td>\n",
       "      <td>14.438802</td>\n",
       "      <td>2.9</td>\n",
       "      <td>1.411091</td>\n",
       "      <td>41.471734</td>\n",
       "      <td>-0.426007</td>\n",
       "      <td>61.229</td>\n",
       "    </tr>\n",
       "    <tr>\n",
       "      <th>Algeria</th>\n",
       "      <td>3098.851733</td>\n",
       "      <td>10.0</td>\n",
       "      <td>59.638000</td>\n",
       "      <td>38.383538</td>\n",
       "      <td>1.9</td>\n",
       "      <td>1.951768</td>\n",
       "      <td>17.671559</td>\n",
       "      <td>1.933950</td>\n",
       "      <td>73.189</td>\n",
       "    </tr>\n",
       "    <tr>\n",
       "      <th>Andorra</th>\n",
       "      <td>NaN</td>\n",
       "      <td>10.0</td>\n",
       "      <td>NaN</td>\n",
       "      <td>NaN</td>\n",
       "      <td>2.5</td>\n",
       "      <td>NaN</td>\n",
       "      <td>NaN</td>\n",
       "      <td>0.176454</td>\n",
       "      <td>87.984</td>\n",
       "    </tr>\n",
       "    <tr>\n",
       "      <th>Angola</th>\n",
       "      <td>1028.564719</td>\n",
       "      <td>6.0</td>\n",
       "      <td>41.730999</td>\n",
       "      <td>27.280625</td>\n",
       "      <td>0.8</td>\n",
       "      <td>17.145320</td>\n",
       "      <td>50.293109</td>\n",
       "      <td>3.242983</td>\n",
       "      <td>66.177</td>\n",
       "    </tr>\n",
       "  </tbody>\n",
       "</table>\n",
       "</div>"
      ],
      "text/plain": [
       "indicator_name  Adjusted net national income per capita (current US$)  \\\n",
       "country_name                                                            \n",
       "Afghanistan                                            458.370738       \n",
       "Albania                                               4201.077084       \n",
       "Algeria                                               3098.851733       \n",
       "Andorra                                                       NaN       \n",
       "Angola                                                1028.564719       \n",
       "\n",
       "indicator_name  Compulsory education, duration (years)  \\\n",
       "country_name                                             \n",
       "Afghanistan                                        9.0   \n",
       "Albania                                            9.0   \n",
       "Algeria                                           10.0   \n",
       "Andorra                                           10.0   \n",
       "Angola                                             6.0   \n",
       "\n",
       "indicator_name  Employment in services (% of total employment) (modeled ILO estimate)  \\\n",
       "country_name                                                                            \n",
       "Afghanistan                                             39.396000                       \n",
       "Albania                                                 43.662998                       \n",
       "Algeria                                                 59.638000                       \n",
       "Andorra                                                       NaN                       \n",
       "Angola                                                  41.730999                       \n",
       "\n",
       "indicator_name  Gross savings (% of GNI)  Hospital beds (per 1,000 people)  \\\n",
       "country_name                                                                 \n",
       "Afghanistan                    18.558666                               0.5   \n",
       "Albania                        14.438802                               2.9   \n",
       "Algeria                        38.383538                               1.9   \n",
       "Andorra                              NaN                               2.5   \n",
       "Angola                         27.280625                               0.8   \n",
       "\n",
       "indicator_name  Inflation, consumer prices (annual %)  \\\n",
       "country_name                                            \n",
       "Afghanistan                                  2.302373   \n",
       "Albania                                      1.411091   \n",
       "Algeria                                      1.951768   \n",
       "Andorra                                           NaN   \n",
       "Angola                                      17.145320   \n",
       "\n",
       "indicator_name  Labor force, female (% of total labor force)  \\\n",
       "country_name                                                   \n",
       "Afghanistan                                        21.618689   \n",
       "Albania                                            41.471734   \n",
       "Algeria                                            17.671559   \n",
       "Andorra                                                  NaN   \n",
       "Angola                                             50.293109   \n",
       "\n",
       "indicator_name  Population growth (annual %)  \\\n",
       "country_name                                   \n",
       "Afghanistan                         2.311817   \n",
       "Albania                            -0.426007   \n",
       "Algeria                             1.933950   \n",
       "Andorra                             0.176454   \n",
       "Angola                              3.242983   \n",
       "\n",
       "indicator_name  Urban population (% of total population)  \n",
       "country_name                                              \n",
       "Afghanistan                                       25.754  \n",
       "Albania                                           61.229  \n",
       "Algeria                                           73.189  \n",
       "Andorra                                           87.984  \n",
       "Angola                                            66.177  "
      ]
     },
     "execution_count": 87,
     "metadata": {},
     "output_type": "execute_result"
    }
   ],
   "source": [
    "wb_df.drop(columns=['Total debt service (% of GNI)', 'Air transport, passengers carried'], inplace=True)\n",
    "wb_df.head()"
   ]
  },
  {
   "cell_type": "markdown",
   "metadata": {},
   "source": [
    "Fill 'Compulsory education, duration (years)' column missing values with column mean"
   ]
  },
  {
   "cell_type": "code",
   "execution_count": 88,
   "metadata": {},
   "outputs": [],
   "source": [
    "wb_df['Compulsory education, duration (years)'] = wb_df['Compulsory education, duration (years)'].fillna(value=\n",
    "                            wb_df['Compulsory education, duration (years)'].dropna().values.mean())"
   ]
  },
  {
   "cell_type": "markdown",
   "metadata": {},
   "source": [
    "Drop rows with more than 1 missing value"
   ]
  },
  {
   "cell_type": "code",
   "execution_count": 89,
   "metadata": {},
   "outputs": [],
   "source": [
    "wb_df = wb_df[wb_df.isnull().apply(lambda x:x.sum(), axis=1)<2]"
   ]
  },
  {
   "cell_type": "markdown",
   "metadata": {},
   "source": [
    "Replace missing 'Adjusted net national income per capita (current US$)' value with value from alternative souce"
   ]
  },
  {
   "cell_type": "code",
   "execution_count": 90,
   "metadata": {},
   "outputs": [],
   "source": [
    "wb_df.loc['Malta','Adjusted net national income per capita (current US$)'] = 27290"
   ]
  },
  {
   "cell_type": "markdown",
   "metadata": {},
   "source": [
    "Replace missing 'Hospital beds (per 1,000 people)' value with value from alternative souce"
   ]
  },
  {
   "cell_type": "code",
   "execution_count": 91,
   "metadata": {},
   "outputs": [],
   "source": [
    "wb_df.loc['South Sudan', 'Hospital beds (per 1,000 people)'] = .8"
   ]
  },
  {
   "cell_type": "markdown",
   "metadata": {},
   "source": [
    "Replace missing 'Inflation, consumer prices (annual %)' value with the feature mean"
   ]
  },
  {
   "cell_type": "code",
   "execution_count": 92,
   "metadata": {},
   "outputs": [],
   "source": [
    "wb_df['Inflation, consumer prices (annual %)'] = wb_df['Inflation, consumer prices (annual %)'].fillna(value = \n",
    "                            wb_df['Inflation, consumer prices (annual %)'].mean())"
   ]
  },
  {
   "cell_type": "markdown",
   "metadata": {},
   "source": [
    "Replace missing 'Gross savings (% of GNI)' with feature mean"
   ]
  },
  {
   "cell_type": "code",
   "execution_count": 98,
   "metadata": {},
   "outputs": [],
   "source": [
    "wb_df['Gross savings (% of GNI)'] = wb_df['Gross savings (% of GNI)'].fillna(value = \n",
    "                            wb_df['Gross savings (% of GNI)'].mean())"
   ]
  },
  {
   "cell_type": "markdown",
   "metadata": {},
   "source": [
    "Confirm that data is scrubbed with wb_df.info()"
   ]
  },
  {
   "cell_type": "code",
   "execution_count": 99,
   "metadata": {},
   "outputs": [
    {
     "name": "stdout",
     "output_type": "stream",
     "text": [
      "<class 'pandas.core.frame.DataFrame'>\n",
      "Index: 174 entries, Afghanistan to Zimbabwe\n",
      "Data columns (total 9 columns):\n",
      " #   Column                                                                 Non-Null Count  Dtype  \n",
      "---  ------                                                                 --------------  -----  \n",
      " 0   Adjusted net national income per capita (current US$)                  174 non-null    float64\n",
      " 1   Compulsory education, duration (years)                                 174 non-null    float64\n",
      " 2   Employment in services (% of total employment) (modeled ILO estimate)  174 non-null    float64\n",
      " 3   Gross savings (% of GNI)                                               174 non-null    float64\n",
      " 4   Hospital beds (per 1,000 people)                                       174 non-null    float64\n",
      " 5   Inflation, consumer prices (annual %)                                  174 non-null    float64\n",
      " 6   Labor force, female (% of total labor force)                           174 non-null    float64\n",
      " 7   Population growth (annual %)                                           174 non-null    float64\n",
      " 8   Urban population (% of total population)                               174 non-null    float64\n",
      "dtypes: float64(9)\n",
      "memory usage: 18.6+ KB\n"
     ]
    }
   ],
   "source": [
    "wb_df.info()"
   ]
  },
  {
   "cell_type": "markdown",
   "metadata": {},
   "source": [
    "save scrubbed wb_df to csv file for use in modeling file"
   ]
  },
  {
   "cell_type": "code",
   "execution_count": 102,
   "metadata": {},
   "outputs": [],
   "source": [
    "wb_df.reset_index().to_csv('Scrubbed_wb_dataset.csv', index=False)"
   ]
  }
 ],
 "metadata": {
  "kernelspec": {
   "display_name": "Python 3",
   "language": "python",
   "name": "python3"
  },
  "language_info": {
   "codemirror_mode": {
    "name": "ipython",
    "version": 3
   },
   "file_extension": ".py",
   "mimetype": "text/x-python",
   "name": "python",
   "nbconvert_exporter": "python",
   "pygments_lexer": "ipython3",
   "version": "3.7.6"
  }
 },
 "nbformat": 4,
 "nbformat_minor": 4
}
