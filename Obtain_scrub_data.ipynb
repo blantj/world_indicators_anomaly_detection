{
 "cells": [
  {
   "cell_type": "markdown",
   "metadata": {},
   "source": [
    "# Import libraries"
   ]
  },
  {
   "cell_type": "code",
   "execution_count": 47,
   "metadata": {},
   "outputs": [],
   "source": [
    "from google.cloud import bigquery\n",
    "import os\n",
    "from google.oauth2 import service_account\n",
    "import pandas as pd\n",
    "import pickle\n",
    "import seaborn as sns\n",
    "from sklearn.impute import KNNImputer"
   ]
  },
  {
   "cell_type": "markdown",
   "metadata": {},
   "source": [
    "# Obtain data"
   ]
  },
  {
   "cell_type": "markdown",
   "metadata": {},
   "source": [
    "Set up client connection to bigquery api"
   ]
  },
  {
   "cell_type": "code",
   "execution_count": 4,
   "metadata": {},
   "outputs": [],
   "source": [
    "os.environ[\"GOOGLE_APPLICATION_CREDENTIALS\"]= '../world-bank-indicators-3ccb8c5c2658.json'\n",
    "client = bigquery.Client()"
   ]
  },
  {
   "cell_type": "markdown",
   "metadata": {},
   "source": [
    "Get bigquery 'World Bank WDI' dataset"
   ]
  },
  {
   "cell_type": "code",
   "execution_count": 5,
   "metadata": {},
   "outputs": [],
   "source": [
    "dataset_id = client.dataset(\"world_bank_wdi\", project=\"bigquery-public-data\")\n",
    "dataset = client.get_dataset(dataset_id)"
   ]
  },
  {
   "cell_type": "markdown",
   "metadata": {},
   "source": [
    "View tables in dataset"
   ]
  },
  {
   "cell_type": "code",
   "execution_count": 6,
   "metadata": {},
   "outputs": [
    {
     "name": "stdout",
     "output_type": "stream",
     "text": [
      "country_series_definitions\n",
      "country_summary\n",
      "footnotes\n",
      "indicators_data\n",
      "series_summary\n",
      "series_time\n"
     ]
    }
   ],
   "source": [
    "tables = list(client.list_tables(dataset))\n",
    "for table in tables:\n",
    "    print(table.table_id)"
   ]
  },
  {
   "cell_type": "markdown",
   "metadata": {},
   "source": [
    "View indicators_data table"
   ]
  },
  {
   "cell_type": "code",
   "execution_count": 7,
   "metadata": {},
   "outputs": [
    {
     "name": "stdout",
     "output_type": "stream",
     "text": [
      "SchemaField('country_name', 'STRING', 'NULLABLE', '', (), None)\n",
      "SchemaField('country_code', 'STRING', 'NULLABLE', '', (), None)\n",
      "SchemaField('indicator_name', 'STRING', 'NULLABLE', '', (), None)\n",
      "SchemaField('indicator_code', 'STRING', 'NULLABLE', '', (), None)\n",
      "SchemaField('value', 'FLOAT', 'NULLABLE', '', (), None)\n",
      "SchemaField('year', 'INTEGER', 'NULLABLE', '', (), None)\n"
     ]
    },
    {
     "name": "stderr",
     "output_type": "stream",
     "text": [
      "/Users/blantj/opt/anaconda3/lib/python3.7/site-packages/google/cloud/bigquery/table.py:1690: UserWarning: Cannot use bqstorage_client if max_results is set, reverting to fetching data with the REST endpoint.\n",
      "  if not self._validate_bqstorage(bqstorage_client, create_bqstorage_client):\n"
     ]
    },
    {
     "data": {
      "text/html": [
       "<div>\n",
       "<style scoped>\n",
       "    .dataframe tbody tr th:only-of-type {\n",
       "        vertical-align: middle;\n",
       "    }\n",
       "\n",
       "    .dataframe tbody tr th {\n",
       "        vertical-align: top;\n",
       "    }\n",
       "\n",
       "    .dataframe thead th {\n",
       "        text-align: right;\n",
       "    }\n",
       "</style>\n",
       "<table border=\"1\" class=\"dataframe\">\n",
       "  <thead>\n",
       "    <tr style=\"text-align: right;\">\n",
       "      <th></th>\n",
       "      <th>country_name</th>\n",
       "      <th>country_code</th>\n",
       "      <th>indicator_name</th>\n",
       "      <th>indicator_code</th>\n",
       "      <th>value</th>\n",
       "      <th>year</th>\n",
       "    </tr>\n",
       "  </thead>\n",
       "  <tbody>\n",
       "    <tr>\n",
       "      <th>0</th>\n",
       "      <td>Syrian Arab Republic</td>\n",
       "      <td>SYR</td>\n",
       "      <td>PPG, IBRD (DOD, current US$)</td>\n",
       "      <td>DT.DOD.MIBR.CD</td>\n",
       "      <td>484497000.0</td>\n",
       "      <td>1991</td>\n",
       "    </tr>\n",
       "    <tr>\n",
       "      <th>1</th>\n",
       "      <td>Syrian Arab Republic</td>\n",
       "      <td>SYR</td>\n",
       "      <td>PPG, IDA (DOD, current US$)</td>\n",
       "      <td>DT.DOD.MIDA.CD</td>\n",
       "      <td>16389000.0</td>\n",
       "      <td>2009</td>\n",
       "    </tr>\n",
       "    <tr>\n",
       "      <th>2</th>\n",
       "      <td>Syrian Arab Republic</td>\n",
       "      <td>SYR</td>\n",
       "      <td>PPG, IDA (DOD, current US$)</td>\n",
       "      <td>DT.DOD.MIDA.CD</td>\n",
       "      <td>14052000.0</td>\n",
       "      <td>2012</td>\n",
       "    </tr>\n",
       "    <tr>\n",
       "      <th>3</th>\n",
       "      <td>Syrian Arab Republic</td>\n",
       "      <td>SYR</td>\n",
       "      <td>Prevalence of anemia among women of reproducti...</td>\n",
       "      <td>SH.ANM.ALLW.ZS</td>\n",
       "      <td>37.4</td>\n",
       "      <td>1998</td>\n",
       "    </tr>\n",
       "    <tr>\n",
       "      <th>4</th>\n",
       "      <td>Syrian Arab Republic</td>\n",
       "      <td>SYR</td>\n",
       "      <td>Prevalence of HIV, male (% ages 15-24)</td>\n",
       "      <td>SH.HIV.1524.MA.ZS</td>\n",
       "      <td>0.1</td>\n",
       "      <td>2008</td>\n",
       "    </tr>\n",
       "  </tbody>\n",
       "</table>\n",
       "</div>"
      ],
      "text/plain": [
       "           country_name country_code  \\\n",
       "0  Syrian Arab Republic          SYR   \n",
       "1  Syrian Arab Republic          SYR   \n",
       "2  Syrian Arab Republic          SYR   \n",
       "3  Syrian Arab Republic          SYR   \n",
       "4  Syrian Arab Republic          SYR   \n",
       "\n",
       "                                      indicator_name     indicator_code  \\\n",
       "0                       PPG, IBRD (DOD, current US$)     DT.DOD.MIBR.CD   \n",
       "1                        PPG, IDA (DOD, current US$)     DT.DOD.MIDA.CD   \n",
       "2                        PPG, IDA (DOD, current US$)     DT.DOD.MIDA.CD   \n",
       "3  Prevalence of anemia among women of reproducti...     SH.ANM.ALLW.ZS   \n",
       "4             Prevalence of HIV, male (% ages 15-24)  SH.HIV.1524.MA.ZS   \n",
       "\n",
       "         value  year  \n",
       "0  484497000.0  1991  \n",
       "1   16389000.0  2009  \n",
       "2   14052000.0  2012  \n",
       "3         37.4  1998  \n",
       "4          0.1  2008  "
      ]
     },
     "execution_count": 7,
     "metadata": {},
     "output_type": "execute_result"
    }
   ],
   "source": [
    "table_id = dataset_id.table(\"indicators_data\")\n",
    "table = client.get_table(table_id)\n",
    "[print(item) for item in table.schema]\n",
    "client.list_rows(table, max_results=5).to_dataframe()"
   ]
  },
  {
   "cell_type": "markdown",
   "metadata": {},
   "source": [
    "Query anomoly detection dataset from indicators_data table"
   ]
  },
  {
   "cell_type": "code",
   "execution_count": 8,
   "metadata": {},
   "outputs": [
    {
     "name": "stderr",
     "output_type": "stream",
     "text": [
      "/Users/blantj/opt/anaconda3/lib/python3.7/site-packages/google/cloud/bigquery/client.py:441: UserWarning: Cannot create BigQuery Storage client, the dependency google-cloud-bigquery-storage is not installed.\n",
      "  \"Cannot create BigQuery Storage client, the dependency \"\n"
     ]
    }
   ],
   "source": [
    "indicators_query = \"\"\"\n",
    "        SELECT *\n",
    "        FROM `bigquery-public-data.world_bank_wdi.indicators_data`\n",
    "        WHERE indicator_name IN ('Tax revenue (% of GDP)', \n",
    "                                 'General government final consumption expenditure (% of GDP)',\n",
    "                                 'Children out of school (% of primary school age)',\n",
    "                                 'GDP growth (annual %)',\n",
    "                                 'Net investment in nonfinancial assets (% of GDP)',\n",
    "                                 'Merchandise trade (% of GDP)',\n",
    "                                 'Employment to population ratio, 15+, total (%) (national estimate)',\n",
    "                                 'Gross savings (% of GDP)',\n",
    "                                 'Interest rate spread (lending rate minus deposit rate, %)',\n",
    "                                 'Inflation, consumer prices (annual %)')\"\"\"\n",
    "indicators_query_job = client.query(indicators_query)\n",
    "indicators_df = indicators_query_job.to_dataframe()\n",
    "indicators_df.to_csv('Excel/dataset.csv', index=False)"
   ]
  },
  {
   "cell_type": "markdown",
   "metadata": {},
   "source": [
    "# Scrub data"
   ]
  },
  {
   "cell_type": "markdown",
   "metadata": {},
   "source": [
    "Read df with indicators data into pandas"
   ]
  },
  {
   "cell_type": "code",
   "execution_count": 38,
   "metadata": {},
   "outputs": [
    {
     "data": {
      "text/html": [
       "<div>\n",
       "<style scoped>\n",
       "    .dataframe tbody tr th:only-of-type {\n",
       "        vertical-align: middle;\n",
       "    }\n",
       "\n",
       "    .dataframe tbody tr th {\n",
       "        vertical-align: top;\n",
       "    }\n",
       "\n",
       "    .dataframe thead th {\n",
       "        text-align: right;\n",
       "    }\n",
       "</style>\n",
       "<table border=\"1\" class=\"dataframe\">\n",
       "  <thead>\n",
       "    <tr style=\"text-align: right;\">\n",
       "      <th></th>\n",
       "      <th>country_name</th>\n",
       "      <th>country_code</th>\n",
       "      <th>indicator_name</th>\n",
       "      <th>indicator_code</th>\n",
       "      <th>value</th>\n",
       "      <th>year</th>\n",
       "    </tr>\n",
       "  </thead>\n",
       "  <tbody>\n",
       "    <tr>\n",
       "      <th>0</th>\n",
       "      <td>Tajikistan</td>\n",
       "      <td>TJK</td>\n",
       "      <td>GDP growth (annual %)</td>\n",
       "      <td>NY.GDP.MKTP.KD.ZG</td>\n",
       "      <td>7.760139</td>\n",
       "      <td>2007</td>\n",
       "    </tr>\n",
       "    <tr>\n",
       "      <th>1</th>\n",
       "      <td>Tanzania</td>\n",
       "      <td>TZA</td>\n",
       "      <td>GDP growth (annual %)</td>\n",
       "      <td>NY.GDP.MKTP.KD.ZG</td>\n",
       "      <td>6.781586</td>\n",
       "      <td>2013</td>\n",
       "    </tr>\n",
       "    <tr>\n",
       "      <th>2</th>\n",
       "      <td>Lebanon</td>\n",
       "      <td>LBN</td>\n",
       "      <td>GDP growth (annual %)</td>\n",
       "      <td>NY.GDP.MKTP.KD.ZG</td>\n",
       "      <td>3.811023</td>\n",
       "      <td>2013</td>\n",
       "    </tr>\n",
       "    <tr>\n",
       "      <th>3</th>\n",
       "      <td>Lesotho</td>\n",
       "      <td>LSO</td>\n",
       "      <td>GDP growth (annual %)</td>\n",
       "      <td>NY.GDP.MKTP.KD.ZG</td>\n",
       "      <td>-0.405521</td>\n",
       "      <td>1966</td>\n",
       "    </tr>\n",
       "    <tr>\n",
       "      <th>4</th>\n",
       "      <td>Macao SAR, China</td>\n",
       "      <td>MAC</td>\n",
       "      <td>GDP growth (annual %)</td>\n",
       "      <td>NY.GDP.MKTP.KD.ZG</td>\n",
       "      <td>-2.359157</td>\n",
       "      <td>1999</td>\n",
       "    </tr>\n",
       "  </tbody>\n",
       "</table>\n",
       "</div>"
      ],
      "text/plain": [
       "       country_name country_code         indicator_name     indicator_code  \\\n",
       "0        Tajikistan          TJK  GDP growth (annual %)  NY.GDP.MKTP.KD.ZG   \n",
       "1          Tanzania          TZA  GDP growth (annual %)  NY.GDP.MKTP.KD.ZG   \n",
       "2           Lebanon          LBN  GDP growth (annual %)  NY.GDP.MKTP.KD.ZG   \n",
       "3           Lesotho          LSO  GDP growth (annual %)  NY.GDP.MKTP.KD.ZG   \n",
       "4  Macao SAR, China          MAC  GDP growth (annual %)  NY.GDP.MKTP.KD.ZG   \n",
       "\n",
       "      value  year  \n",
       "0  7.760139  2007  \n",
       "1  6.781586  2013  \n",
       "2  3.811023  2013  \n",
       "3 -0.405521  1966  \n",
       "4 -2.359157  1999  "
      ]
     },
     "execution_count": 38,
     "metadata": {},
     "output_type": "execute_result"
    }
   ],
   "source": [
    "df = pd.read_csv('Excel/dataset.csv')\n",
    "df.head()"
   ]
  },
  {
   "cell_type": "markdown",
   "metadata": {},
   "source": [
    "Remove rows with regional and other non-country country_names (which are specified in exclusions.csv) from the dataset"
   ]
  },
  {
   "cell_type": "code",
   "execution_count": 39,
   "metadata": {},
   "outputs": [
    {
     "data": {
      "text/html": [
       "<div>\n",
       "<style scoped>\n",
       "    .dataframe tbody tr th:only-of-type {\n",
       "        vertical-align: middle;\n",
       "    }\n",
       "\n",
       "    .dataframe tbody tr th {\n",
       "        vertical-align: top;\n",
       "    }\n",
       "\n",
       "    .dataframe thead th {\n",
       "        text-align: right;\n",
       "    }\n",
       "</style>\n",
       "<table border=\"1\" class=\"dataframe\">\n",
       "  <thead>\n",
       "    <tr style=\"text-align: right;\">\n",
       "      <th></th>\n",
       "      <th>country_code</th>\n",
       "      <th>country_name</th>\n",
       "      <th>indicator_name</th>\n",
       "      <th>indicator_code</th>\n",
       "      <th>value</th>\n",
       "      <th>year</th>\n",
       "    </tr>\n",
       "  </thead>\n",
       "  <tbody>\n",
       "    <tr>\n",
       "      <th>0</th>\n",
       "      <td>TJK</td>\n",
       "      <td>Tajikistan</td>\n",
       "      <td>GDP growth (annual %)</td>\n",
       "      <td>NY.GDP.MKTP.KD.ZG</td>\n",
       "      <td>7.760139</td>\n",
       "      <td>2007</td>\n",
       "    </tr>\n",
       "    <tr>\n",
       "      <th>1</th>\n",
       "      <td>TZA</td>\n",
       "      <td>Tanzania</td>\n",
       "      <td>GDP growth (annual %)</td>\n",
       "      <td>NY.GDP.MKTP.KD.ZG</td>\n",
       "      <td>6.781586</td>\n",
       "      <td>2013</td>\n",
       "    </tr>\n",
       "    <tr>\n",
       "      <th>2</th>\n",
       "      <td>LBN</td>\n",
       "      <td>Lebanon</td>\n",
       "      <td>GDP growth (annual %)</td>\n",
       "      <td>NY.GDP.MKTP.KD.ZG</td>\n",
       "      <td>3.811023</td>\n",
       "      <td>2013</td>\n",
       "    </tr>\n",
       "    <tr>\n",
       "      <th>3</th>\n",
       "      <td>LSO</td>\n",
       "      <td>Lesotho</td>\n",
       "      <td>GDP growth (annual %)</td>\n",
       "      <td>NY.GDP.MKTP.KD.ZG</td>\n",
       "      <td>-0.405521</td>\n",
       "      <td>1966</td>\n",
       "    </tr>\n",
       "    <tr>\n",
       "      <th>4</th>\n",
       "      <td>STP</td>\n",
       "      <td>Sao Tome and Principe</td>\n",
       "      <td>GDP growth (annual %)</td>\n",
       "      <td>NY.GDP.MKTP.KD.ZG</td>\n",
       "      <td>2.376878</td>\n",
       "      <td>2002</td>\n",
       "    </tr>\n",
       "  </tbody>\n",
       "</table>\n",
       "</div>"
      ],
      "text/plain": [
       "  country_code           country_name         indicator_name  \\\n",
       "0          TJK             Tajikistan  GDP growth (annual %)   \n",
       "1          TZA               Tanzania  GDP growth (annual %)   \n",
       "2          LBN                Lebanon  GDP growth (annual %)   \n",
       "3          LSO                Lesotho  GDP growth (annual %)   \n",
       "4          STP  Sao Tome and Principe  GDP growth (annual %)   \n",
       "\n",
       "      indicator_code     value  year  \n",
       "0  NY.GDP.MKTP.KD.ZG  7.760139  2007  \n",
       "1  NY.GDP.MKTP.KD.ZG  6.781586  2013  \n",
       "2  NY.GDP.MKTP.KD.ZG  3.811023  2013  \n",
       "3  NY.GDP.MKTP.KD.ZG -0.405521  1966  \n",
       "4  NY.GDP.MKTP.KD.ZG  2.376878  2002  "
      ]
     },
     "execution_count": 39,
     "metadata": {},
     "output_type": "execute_result"
    }
   ],
   "source": [
    "exclusions_df = pd.read_csv('Excel/exclusions.csv')\n",
    "df.set_index('country_code', inplace=True)\n",
    "df.drop(list(exclusions_df['country_code'].values), inplace=True)\n",
    "df.reset_index(inplace=True)\n",
    "df.head()"
   ]
  },
  {
   "cell_type": "markdown",
   "metadata": {},
   "source": [
    "View number of repeated indicator measurements for the same country across different years"
   ]
  },
  {
   "cell_type": "code",
   "execution_count": 40,
   "metadata": {
    "scrolled": true
   },
   "outputs": [
    {
     "data": {
      "text/plain": [
       "Austria Merchandise trade (% of GDP)                                                   60\n",
       "Algeria General government final consumption expenditure (% of GDP)                    60\n",
       "Malawi Merchandise trade (% of GDP)                                                    60\n",
       "Dominican Republic General government final consumption expenditure (% of GDP)         60\n",
       "Jamaica Inflation, consumer prices (annual %)                                          60\n",
       "                                                                                       ..\n",
       "Libya Employment to population ratio, 15+, total (%) (national estimate)                1\n",
       "South Sudan Employment to population ratio, 15+, total (%) (national estimate)          1\n",
       "Papua New Guinea Employment to population ratio, 15+, total (%) (national estimate)     1\n",
       "Guinea-Bissau Tax revenue (% of GDP)                                                    1\n",
       "Turkmenistan Employment to population ratio, 15+, total (%) (national estimate)         1\n",
       "Name: country_indicator, Length: 1741, dtype: int64"
      ]
     },
     "execution_count": 40,
     "metadata": {},
     "output_type": "execute_result"
    }
   ],
   "source": [
    "df['country_indicator'] = df['country_name'] + ' ' + df['indicator_name']\n",
    "df['country_indicator'].value_counts()"
   ]
  },
  {
   "cell_type": "markdown",
   "metadata": {},
   "source": [
    "Filter out outdated indicator values from before 2010"
   ]
  },
  {
   "cell_type": "code",
   "execution_count": 41,
   "metadata": {},
   "outputs": [
    {
     "name": "stdout",
     "output_type": "stream",
     "text": [
      "(14285, 7)\n"
     ]
    },
    {
     "data": {
      "text/html": [
       "<div>\n",
       "<style scoped>\n",
       "    .dataframe tbody tr th:only-of-type {\n",
       "        vertical-align: middle;\n",
       "    }\n",
       "\n",
       "    .dataframe tbody tr th {\n",
       "        vertical-align: top;\n",
       "    }\n",
       "\n",
       "    .dataframe thead th {\n",
       "        text-align: right;\n",
       "    }\n",
       "</style>\n",
       "<table border=\"1\" class=\"dataframe\">\n",
       "  <thead>\n",
       "    <tr style=\"text-align: right;\">\n",
       "      <th></th>\n",
       "      <th>country_code</th>\n",
       "      <th>country_name</th>\n",
       "      <th>indicator_name</th>\n",
       "      <th>indicator_code</th>\n",
       "      <th>value</th>\n",
       "      <th>year</th>\n",
       "      <th>country_indicator</th>\n",
       "    </tr>\n",
       "  </thead>\n",
       "  <tbody>\n",
       "    <tr>\n",
       "      <th>1</th>\n",
       "      <td>TZA</td>\n",
       "      <td>Tanzania</td>\n",
       "      <td>GDP growth (annual %)</td>\n",
       "      <td>NY.GDP.MKTP.KD.ZG</td>\n",
       "      <td>6.781586</td>\n",
       "      <td>2013</td>\n",
       "      <td>Tanzania GDP growth (annual %)</td>\n",
       "    </tr>\n",
       "    <tr>\n",
       "      <th>2</th>\n",
       "      <td>LBN</td>\n",
       "      <td>Lebanon</td>\n",
       "      <td>GDP growth (annual %)</td>\n",
       "      <td>NY.GDP.MKTP.KD.ZG</td>\n",
       "      <td>3.811023</td>\n",
       "      <td>2013</td>\n",
       "      <td>Lebanon GDP growth (annual %)</td>\n",
       "    </tr>\n",
       "    <tr>\n",
       "      <th>12</th>\n",
       "      <td>USA</td>\n",
       "      <td>United States</td>\n",
       "      <td>GDP growth (annual %)</td>\n",
       "      <td>NY.GDP.MKTP.KD.ZG</td>\n",
       "      <td>2.563767</td>\n",
       "      <td>2010</td>\n",
       "      <td>United States GDP growth (annual %)</td>\n",
       "    </tr>\n",
       "    <tr>\n",
       "      <th>16</th>\n",
       "      <td>AUS</td>\n",
       "      <td>Australia</td>\n",
       "      <td>GDP growth (annual %)</td>\n",
       "      <td>NY.GDP.MKTP.KD.ZG</td>\n",
       "      <td>2.940334</td>\n",
       "      <td>2018</td>\n",
       "      <td>Australia GDP growth (annual %)</td>\n",
       "    </tr>\n",
       "    <tr>\n",
       "      <th>23</th>\n",
       "      <td>MHL</td>\n",
       "      <td>Marshall Islands</td>\n",
       "      <td>GDP growth (annual %)</td>\n",
       "      <td>NY.GDP.MKTP.KD.ZG</td>\n",
       "      <td>3.624753</td>\n",
       "      <td>2018</td>\n",
       "      <td>Marshall Islands GDP growth (annual %)</td>\n",
       "    </tr>\n",
       "  </tbody>\n",
       "</table>\n",
       "</div>"
      ],
      "text/plain": [
       "   country_code      country_name         indicator_name     indicator_code  \\\n",
       "1           TZA          Tanzania  GDP growth (annual %)  NY.GDP.MKTP.KD.ZG   \n",
       "2           LBN           Lebanon  GDP growth (annual %)  NY.GDP.MKTP.KD.ZG   \n",
       "12          USA     United States  GDP growth (annual %)  NY.GDP.MKTP.KD.ZG   \n",
       "16          AUS         Australia  GDP growth (annual %)  NY.GDP.MKTP.KD.ZG   \n",
       "23          MHL  Marshall Islands  GDP growth (annual %)  NY.GDP.MKTP.KD.ZG   \n",
       "\n",
       "       value  year                       country_indicator  \n",
       "1   6.781586  2013          Tanzania GDP growth (annual %)  \n",
       "2   3.811023  2013           Lebanon GDP growth (annual %)  \n",
       "12  2.563767  2010     United States GDP growth (annual %)  \n",
       "16  2.940334  2018         Australia GDP growth (annual %)  \n",
       "23  3.624753  2018  Marshall Islands GDP growth (annual %)  "
      ]
     },
     "execution_count": 41,
     "metadata": {},
     "output_type": "execute_result"
    }
   ],
   "source": [
    "df = df[df['year']>=2010]\n",
    "print(df.shape)\n",
    "df.head()"
   ]
  },
  {
   "cell_type": "markdown",
   "metadata": {},
   "source": [
    "Create list specifying which df rows have the most recent annual measurements for their country/indicator combination"
   ]
  },
  {
   "cell_type": "code",
   "execution_count": 42,
   "metadata": {},
   "outputs": [],
   "source": [
    "def to_keep(row):\n",
    "    values = list(df[df['country_indicator']==row['country_indicator']]['year'].values)\n",
    "    if row['year'] == max(values):\n",
    "        return True\n",
    "    else:\n",
    "        return False\n",
    "    \n",
    "row_booleans = df.apply(to_keep, axis=1)\n",
    "df['keep'] = row_booleans"
   ]
  },
  {
   "cell_type": "markdown",
   "metadata": {},
   "source": [
    "Filter out df rows with non-most recent country indicator measurements"
   ]
  },
  {
   "cell_type": "code",
   "execution_count": 43,
   "metadata": {},
   "outputs": [
    {
     "name": "stdout",
     "output_type": "stream",
     "text": [
      "(1678, 7)\n"
     ]
    },
    {
     "name": "stderr",
     "output_type": "stream",
     "text": [
      "/Users/blantj/opt/anaconda3/lib/python3.7/site-packages/pandas/core/frame.py:4169: SettingWithCopyWarning: \n",
      "A value is trying to be set on a copy of a slice from a DataFrame\n",
      "\n",
      "See the caveats in the documentation: https://pandas.pydata.org/pandas-docs/stable/user_guide/indexing.html#returning-a-view-versus-a-copy\n",
      "  errors=errors,\n"
     ]
    },
    {
     "data": {
      "text/html": [
       "<div>\n",
       "<style scoped>\n",
       "    .dataframe tbody tr th:only-of-type {\n",
       "        vertical-align: middle;\n",
       "    }\n",
       "\n",
       "    .dataframe tbody tr th {\n",
       "        vertical-align: top;\n",
       "    }\n",
       "\n",
       "    .dataframe thead th {\n",
       "        text-align: right;\n",
       "    }\n",
       "</style>\n",
       "<table border=\"1\" class=\"dataframe\">\n",
       "  <thead>\n",
       "    <tr style=\"text-align: right;\">\n",
       "      <th></th>\n",
       "      <th>country_code</th>\n",
       "      <th>country_name</th>\n",
       "      <th>indicator_name</th>\n",
       "      <th>indicator_code</th>\n",
       "      <th>value</th>\n",
       "      <th>year</th>\n",
       "      <th>country_indicator</th>\n",
       "    </tr>\n",
       "  </thead>\n",
       "  <tbody>\n",
       "    <tr>\n",
       "      <th>23</th>\n",
       "      <td>MHL</td>\n",
       "      <td>Marshall Islands</td>\n",
       "      <td>GDP growth (annual %)</td>\n",
       "      <td>NY.GDP.MKTP.KD.ZG</td>\n",
       "      <td>3.624753</td>\n",
       "      <td>2018</td>\n",
       "      <td>Marshall Islands GDP growth (annual %)</td>\n",
       "    </tr>\n",
       "    <tr>\n",
       "      <th>56</th>\n",
       "      <td>BGR</td>\n",
       "      <td>Bulgaria</td>\n",
       "      <td>GDP growth (annual %)</td>\n",
       "      <td>NY.GDP.MKTP.KD.ZG</td>\n",
       "      <td>3.371616</td>\n",
       "      <td>2019</td>\n",
       "      <td>Bulgaria GDP growth (annual %)</td>\n",
       "    </tr>\n",
       "    <tr>\n",
       "      <th>93</th>\n",
       "      <td>DZA</td>\n",
       "      <td>Algeria</td>\n",
       "      <td>GDP growth (annual %)</td>\n",
       "      <td>NY.GDP.MKTP.KD.ZG</td>\n",
       "      <td>0.800000</td>\n",
       "      <td>2019</td>\n",
       "      <td>Algeria GDP growth (annual %)</td>\n",
       "    </tr>\n",
       "    <tr>\n",
       "      <th>97</th>\n",
       "      <td>GNB</td>\n",
       "      <td>Guinea-Bissau</td>\n",
       "      <td>GDP growth (annual %)</td>\n",
       "      <td>NY.GDP.MKTP.KD.ZG</td>\n",
       "      <td>4.600094</td>\n",
       "      <td>2019</td>\n",
       "      <td>Guinea-Bissau GDP growth (annual %)</td>\n",
       "    </tr>\n",
       "    <tr>\n",
       "      <th>133</th>\n",
       "      <td>KAZ</td>\n",
       "      <td>Kazakhstan</td>\n",
       "      <td>GDP growth (annual %)</td>\n",
       "      <td>NY.GDP.MKTP.KD.ZG</td>\n",
       "      <td>4.500000</td>\n",
       "      <td>2019</td>\n",
       "      <td>Kazakhstan GDP growth (annual %)</td>\n",
       "    </tr>\n",
       "  </tbody>\n",
       "</table>\n",
       "</div>"
      ],
      "text/plain": [
       "    country_code      country_name         indicator_name     indicator_code  \\\n",
       "23           MHL  Marshall Islands  GDP growth (annual %)  NY.GDP.MKTP.KD.ZG   \n",
       "56           BGR          Bulgaria  GDP growth (annual %)  NY.GDP.MKTP.KD.ZG   \n",
       "93           DZA           Algeria  GDP growth (annual %)  NY.GDP.MKTP.KD.ZG   \n",
       "97           GNB     Guinea-Bissau  GDP growth (annual %)  NY.GDP.MKTP.KD.ZG   \n",
       "133          KAZ        Kazakhstan  GDP growth (annual %)  NY.GDP.MKTP.KD.ZG   \n",
       "\n",
       "        value  year                       country_indicator  \n",
       "23   3.624753  2018  Marshall Islands GDP growth (annual %)  \n",
       "56   3.371616  2019          Bulgaria GDP growth (annual %)  \n",
       "93   0.800000  2019           Algeria GDP growth (annual %)  \n",
       "97   4.600094  2019     Guinea-Bissau GDP growth (annual %)  \n",
       "133  4.500000  2019        Kazakhstan GDP growth (annual %)  "
      ]
     },
     "execution_count": 43,
     "metadata": {},
     "output_type": "execute_result"
    }
   ],
   "source": [
    "pre_pivot_df = df[df['keep']==True]\n",
    "pre_pivot_df.drop(columns=['keep'], inplace=True)\n",
    "print(pre_pivot_df.shape)\n",
    "pre_pivot_df.head()"
   ]
  },
  {
   "cell_type": "markdown",
   "metadata": {},
   "source": [
    "Pivot indicator measurements table to countries as row indices, and indicators as column indices"
   ]
  },
  {
   "cell_type": "code",
   "execution_count": 44,
   "metadata": {},
   "outputs": [
    {
     "data": {
      "text/html": [
       "<div>\n",
       "<style scoped>\n",
       "    .dataframe tbody tr th:only-of-type {\n",
       "        vertical-align: middle;\n",
       "    }\n",
       "\n",
       "    .dataframe tbody tr th {\n",
       "        vertical-align: top;\n",
       "    }\n",
       "\n",
       "    .dataframe thead th {\n",
       "        text-align: right;\n",
       "    }\n",
       "</style>\n",
       "<table border=\"1\" class=\"dataframe\">\n",
       "  <thead>\n",
       "    <tr style=\"text-align: right;\">\n",
       "      <th>indicator_name</th>\n",
       "      <th>Children out of school (% of primary school age)</th>\n",
       "      <th>Employment to population ratio, 15+, total (%) (national estimate)</th>\n",
       "      <th>GDP growth (annual %)</th>\n",
       "      <th>General government final consumption expenditure (% of GDP)</th>\n",
       "      <th>Gross savings (% of GDP)</th>\n",
       "      <th>Inflation, consumer prices (annual %)</th>\n",
       "      <th>Interest rate spread (lending rate minus deposit rate, %)</th>\n",
       "      <th>Merchandise trade (% of GDP)</th>\n",
       "      <th>Net investment in nonfinancial assets (% of GDP)</th>\n",
       "      <th>Tax revenue (% of GDP)</th>\n",
       "    </tr>\n",
       "    <tr>\n",
       "      <th>country_name</th>\n",
       "      <th></th>\n",
       "      <th></th>\n",
       "      <th></th>\n",
       "      <th></th>\n",
       "      <th></th>\n",
       "      <th></th>\n",
       "      <th></th>\n",
       "      <th></th>\n",
       "      <th></th>\n",
       "      <th></th>\n",
       "    </tr>\n",
       "  </thead>\n",
       "  <tbody>\n",
       "    <tr>\n",
       "      <th>Afghanistan</th>\n",
       "      <td>NaN</td>\n",
       "      <td>42.014599</td>\n",
       "      <td>2.901229</td>\n",
       "      <td>13.123956</td>\n",
       "      <td>18.851059</td>\n",
       "      <td>2.302373</td>\n",
       "      <td>NaN</td>\n",
       "      <td>43.478594</td>\n",
       "      <td>18.512123</td>\n",
       "      <td>9.250468</td>\n",
       "    </tr>\n",
       "    <tr>\n",
       "      <th>Albania</th>\n",
       "      <td>2.10689</td>\n",
       "      <td>53.391998</td>\n",
       "      <td>2.214063</td>\n",
       "      <td>11.531084</td>\n",
       "      <td>14.290923</td>\n",
       "      <td>1.411091</td>\n",
       "      <td>5.783333</td>\n",
       "      <td>56.374894</td>\n",
       "      <td>3.877773</td>\n",
       "      <td>18.557475</td>\n",
       "    </tr>\n",
       "    <tr>\n",
       "      <th>Algeria</th>\n",
       "      <td>0.39044</td>\n",
       "      <td>36.910000</td>\n",
       "      <td>0.800000</td>\n",
       "      <td>18.602840</td>\n",
       "      <td>37.789191</td>\n",
       "      <td>1.951768</td>\n",
       "      <td>6.250000</td>\n",
       "      <td>45.743165</td>\n",
       "      <td>NaN</td>\n",
       "      <td>NaN</td>\n",
       "    </tr>\n",
       "    <tr>\n",
       "      <th>Andorra</th>\n",
       "      <td>NaN</td>\n",
       "      <td>NaN</td>\n",
       "      <td>1.849238</td>\n",
       "      <td>NaN</td>\n",
       "      <td>NaN</td>\n",
       "      <td>NaN</td>\n",
       "      <td>NaN</td>\n",
       "      <td>60.049625</td>\n",
       "      <td>NaN</td>\n",
       "      <td>NaN</td>\n",
       "    </tr>\n",
       "    <tr>\n",
       "      <th>Angola</th>\n",
       "      <td>18.40073</td>\n",
       "      <td>40.040001</td>\n",
       "      <td>-0.869394</td>\n",
       "      <td>10.474545</td>\n",
       "      <td>25.173194</td>\n",
       "      <td>17.145320</td>\n",
       "      <td>12.879965</td>\n",
       "      <td>51.622323</td>\n",
       "      <td>3.826951</td>\n",
       "      <td>9.223777</td>\n",
       "    </tr>\n",
       "  </tbody>\n",
       "</table>\n",
       "</div>"
      ],
      "text/plain": [
       "indicator_name  Children out of school (% of primary school age)  \\\n",
       "country_name                                                       \n",
       "Afghanistan                                                  NaN   \n",
       "Albania                                                  2.10689   \n",
       "Algeria                                                  0.39044   \n",
       "Andorra                                                      NaN   \n",
       "Angola                                                  18.40073   \n",
       "\n",
       "indicator_name  Employment to population ratio, 15+, total (%) (national estimate)  \\\n",
       "country_name                                                                         \n",
       "Afghanistan                                             42.014599                    \n",
       "Albania                                                 53.391998                    \n",
       "Algeria                                                 36.910000                    \n",
       "Andorra                                                       NaN                    \n",
       "Angola                                                  40.040001                    \n",
       "\n",
       "indicator_name  GDP growth (annual %)  \\\n",
       "country_name                            \n",
       "Afghanistan                  2.901229   \n",
       "Albania                      2.214063   \n",
       "Algeria                      0.800000   \n",
       "Andorra                      1.849238   \n",
       "Angola                      -0.869394   \n",
       "\n",
       "indicator_name  General government final consumption expenditure (% of GDP)  \\\n",
       "country_name                                                                  \n",
       "Afghanistan                                             13.123956             \n",
       "Albania                                                 11.531084             \n",
       "Algeria                                                 18.602840             \n",
       "Andorra                                                       NaN             \n",
       "Angola                                                  10.474545             \n",
       "\n",
       "indicator_name  Gross savings (% of GDP)  \\\n",
       "country_name                               \n",
       "Afghanistan                    18.851059   \n",
       "Albania                        14.290923   \n",
       "Algeria                        37.789191   \n",
       "Andorra                              NaN   \n",
       "Angola                         25.173194   \n",
       "\n",
       "indicator_name  Inflation, consumer prices (annual %)  \\\n",
       "country_name                                            \n",
       "Afghanistan                                  2.302373   \n",
       "Albania                                      1.411091   \n",
       "Algeria                                      1.951768   \n",
       "Andorra                                           NaN   \n",
       "Angola                                      17.145320   \n",
       "\n",
       "indicator_name  Interest rate spread (lending rate minus deposit rate, %)  \\\n",
       "country_name                                                                \n",
       "Afghanistan                                                   NaN           \n",
       "Albania                                                  5.783333           \n",
       "Algeria                                                  6.250000           \n",
       "Andorra                                                       NaN           \n",
       "Angola                                                  12.879965           \n",
       "\n",
       "indicator_name  Merchandise trade (% of GDP)  \\\n",
       "country_name                                   \n",
       "Afghanistan                        43.478594   \n",
       "Albania                            56.374894   \n",
       "Algeria                            45.743165   \n",
       "Andorra                            60.049625   \n",
       "Angola                             51.622323   \n",
       "\n",
       "indicator_name  Net investment in nonfinancial assets (% of GDP)  \\\n",
       "country_name                                                       \n",
       "Afghanistan                                            18.512123   \n",
       "Albania                                                 3.877773   \n",
       "Algeria                                                      NaN   \n",
       "Andorra                                                      NaN   \n",
       "Angola                                                  3.826951   \n",
       "\n",
       "indicator_name  Tax revenue (% of GDP)  \n",
       "country_name                            \n",
       "Afghanistan                   9.250468  \n",
       "Albania                      18.557475  \n",
       "Algeria                            NaN  \n",
       "Andorra                            NaN  \n",
       "Angola                        9.223777  "
      ]
     },
     "execution_count": 44,
     "metadata": {},
     "output_type": "execute_result"
    }
   ],
   "source": [
    "wb_df = pre_pivot_df.pivot(index='country_name', columns='indicator_name', values='value')\n",
    "wb_df.head()"
   ]
  },
  {
   "cell_type": "markdown",
   "metadata": {},
   "source": [
    "Perform wb_df.info() to understand what further scrubbing needed"
   ]
  },
  {
   "cell_type": "code",
   "execution_count": 45,
   "metadata": {},
   "outputs": [
    {
     "name": "stdout",
     "output_type": "stream",
     "text": [
      "<class 'pandas.core.frame.DataFrame'>\n",
      "Index: 195 entries, Afghanistan to Zimbabwe\n",
      "Data columns (total 10 columns):\n",
      " #   Column                                                              Non-Null Count  Dtype  \n",
      "---  ------                                                              --------------  -----  \n",
      " 0   Children out of school (% of primary school age)                    178 non-null    float64\n",
      " 1   Employment to population ratio, 15+, total (%) (national estimate)  179 non-null    float64\n",
      " 2   GDP growth (annual %)                                               193 non-null    float64\n",
      " 3   General government final consumption expenditure (% of GDP)         174 non-null    float64\n",
      " 4   Gross savings (% of GDP)                                            165 non-null    float64\n",
      " 5   Inflation, consumer prices (annual %)                               183 non-null    float64\n",
      " 6   Interest rate spread (lending rate minus deposit rate, %)           133 non-null    float64\n",
      " 7   Merchandise trade (% of GDP)                                        187 non-null    float64\n",
      " 8   Net investment in nonfinancial assets (% of GDP)                    141 non-null    float64\n",
      " 9   Tax revenue (% of GDP)                                              145 non-null    float64\n",
      "dtypes: float64(10)\n",
      "memory usage: 16.8+ KB\n"
     ]
    }
   ],
   "source": [
    "wb_df.info()"
   ]
  },
  {
   "cell_type": "markdown",
   "metadata": {},
   "source": [
    "Impute missing values with knnimputer"
   ]
  },
  {
   "cell_type": "code",
   "execution_count": 57,
   "metadata": {},
   "outputs": [
    {
     "data": {
      "text/html": [
       "<div>\n",
       "<style scoped>\n",
       "    .dataframe tbody tr th:only-of-type {\n",
       "        vertical-align: middle;\n",
       "    }\n",
       "\n",
       "    .dataframe tbody tr th {\n",
       "        vertical-align: top;\n",
       "    }\n",
       "\n",
       "    .dataframe thead th {\n",
       "        text-align: right;\n",
       "    }\n",
       "</style>\n",
       "<table border=\"1\" class=\"dataframe\">\n",
       "  <thead>\n",
       "    <tr style=\"text-align: right;\">\n",
       "      <th>indicator_name</th>\n",
       "      <th>Children out of school (% of primary school age)</th>\n",
       "      <th>Employment to population ratio, 15+, total (%) (national estimate)</th>\n",
       "      <th>GDP growth (annual %)</th>\n",
       "      <th>General government final consumption expenditure (% of GDP)</th>\n",
       "      <th>Gross savings (% of GDP)</th>\n",
       "      <th>Inflation, consumer prices (annual %)</th>\n",
       "      <th>Interest rate spread (lending rate minus deposit rate, %)</th>\n",
       "      <th>Merchandise trade (% of GDP)</th>\n",
       "      <th>Net investment in nonfinancial assets (% of GDP)</th>\n",
       "      <th>Tax revenue (% of GDP)</th>\n",
       "    </tr>\n",
       "    <tr>\n",
       "      <th>country_name</th>\n",
       "      <th></th>\n",
       "      <th></th>\n",
       "      <th></th>\n",
       "      <th></th>\n",
       "      <th></th>\n",
       "      <th></th>\n",
       "      <th></th>\n",
       "      <th></th>\n",
       "      <th></th>\n",
       "      <th></th>\n",
       "    </tr>\n",
       "  </thead>\n",
       "  <tbody>\n",
       "    <tr>\n",
       "      <th>Afghanistan</th>\n",
       "      <td>8.824358</td>\n",
       "      <td>42.014599</td>\n",
       "      <td>2.901229</td>\n",
       "      <td>13.123956</td>\n",
       "      <td>18.851059</td>\n",
       "      <td>2.302373</td>\n",
       "      <td>7.204411</td>\n",
       "      <td>43.478594</td>\n",
       "      <td>18.512123</td>\n",
       "      <td>9.250468</td>\n",
       "    </tr>\n",
       "    <tr>\n",
       "      <th>Albania</th>\n",
       "      <td>2.106890</td>\n",
       "      <td>53.391998</td>\n",
       "      <td>2.214063</td>\n",
       "      <td>11.531084</td>\n",
       "      <td>14.290923</td>\n",
       "      <td>1.411091</td>\n",
       "      <td>5.783333</td>\n",
       "      <td>56.374894</td>\n",
       "      <td>3.877773</td>\n",
       "      <td>18.557475</td>\n",
       "    </tr>\n",
       "    <tr>\n",
       "      <th>Algeria</th>\n",
       "      <td>0.390440</td>\n",
       "      <td>36.910000</td>\n",
       "      <td>0.800000</td>\n",
       "      <td>18.602840</td>\n",
       "      <td>37.789191</td>\n",
       "      <td>1.951768</td>\n",
       "      <td>6.250000</td>\n",
       "      <td>45.743165</td>\n",
       "      <td>7.516590</td>\n",
       "      <td>22.013670</td>\n",
       "    </tr>\n",
       "    <tr>\n",
       "      <th>Andorra</th>\n",
       "      <td>4.809204</td>\n",
       "      <td>56.970441</td>\n",
       "      <td>1.849238</td>\n",
       "      <td>21.687959</td>\n",
       "      <td>26.182784</td>\n",
       "      <td>2.863752</td>\n",
       "      <td>5.440050</td>\n",
       "      <td>60.049625</td>\n",
       "      <td>3.516514</td>\n",
       "      <td>23.959638</td>\n",
       "    </tr>\n",
       "    <tr>\n",
       "      <th>Angola</th>\n",
       "      <td>18.400730</td>\n",
       "      <td>40.040001</td>\n",
       "      <td>-0.869394</td>\n",
       "      <td>10.474545</td>\n",
       "      <td>25.173194</td>\n",
       "      <td>17.145320</td>\n",
       "      <td>12.879965</td>\n",
       "      <td>51.622323</td>\n",
       "      <td>3.826951</td>\n",
       "      <td>9.223777</td>\n",
       "    </tr>\n",
       "  </tbody>\n",
       "</table>\n",
       "</div>"
      ],
      "text/plain": [
       "indicator_name  Children out of school (% of primary school age)  \\\n",
       "country_name                                                       \n",
       "Afghanistan                                             8.824358   \n",
       "Albania                                                 2.106890   \n",
       "Algeria                                                 0.390440   \n",
       "Andorra                                                 4.809204   \n",
       "Angola                                                 18.400730   \n",
       "\n",
       "indicator_name  Employment to population ratio, 15+, total (%) (national estimate)  \\\n",
       "country_name                                                                         \n",
       "Afghanistan                                             42.014599                    \n",
       "Albania                                                 53.391998                    \n",
       "Algeria                                                 36.910000                    \n",
       "Andorra                                                 56.970441                    \n",
       "Angola                                                  40.040001                    \n",
       "\n",
       "indicator_name  GDP growth (annual %)  \\\n",
       "country_name                            \n",
       "Afghanistan                  2.901229   \n",
       "Albania                      2.214063   \n",
       "Algeria                      0.800000   \n",
       "Andorra                      1.849238   \n",
       "Angola                      -0.869394   \n",
       "\n",
       "indicator_name  General government final consumption expenditure (% of GDP)  \\\n",
       "country_name                                                                  \n",
       "Afghanistan                                             13.123956             \n",
       "Albania                                                 11.531084             \n",
       "Algeria                                                 18.602840             \n",
       "Andorra                                                 21.687959             \n",
       "Angola                                                  10.474545             \n",
       "\n",
       "indicator_name  Gross savings (% of GDP)  \\\n",
       "country_name                               \n",
       "Afghanistan                    18.851059   \n",
       "Albania                        14.290923   \n",
       "Algeria                        37.789191   \n",
       "Andorra                        26.182784   \n",
       "Angola                         25.173194   \n",
       "\n",
       "indicator_name  Inflation, consumer prices (annual %)  \\\n",
       "country_name                                            \n",
       "Afghanistan                                  2.302373   \n",
       "Albania                                      1.411091   \n",
       "Algeria                                      1.951768   \n",
       "Andorra                                      2.863752   \n",
       "Angola                                      17.145320   \n",
       "\n",
       "indicator_name  Interest rate spread (lending rate minus deposit rate, %)  \\\n",
       "country_name                                                                \n",
       "Afghanistan                                              7.204411           \n",
       "Albania                                                  5.783333           \n",
       "Algeria                                                  6.250000           \n",
       "Andorra                                                  5.440050           \n",
       "Angola                                                  12.879965           \n",
       "\n",
       "indicator_name  Merchandise trade (% of GDP)  \\\n",
       "country_name                                   \n",
       "Afghanistan                        43.478594   \n",
       "Albania                            56.374894   \n",
       "Algeria                            45.743165   \n",
       "Andorra                            60.049625   \n",
       "Angola                             51.622323   \n",
       "\n",
       "indicator_name  Net investment in nonfinancial assets (% of GDP)  \\\n",
       "country_name                                                       \n",
       "Afghanistan                                            18.512123   \n",
       "Albania                                                 3.877773   \n",
       "Algeria                                                 7.516590   \n",
       "Andorra                                                 3.516514   \n",
       "Angola                                                  3.826951   \n",
       "\n",
       "indicator_name  Tax revenue (% of GDP)  \n",
       "country_name                            \n",
       "Afghanistan                   9.250468  \n",
       "Albania                      18.557475  \n",
       "Algeria                      22.013670  \n",
       "Andorra                      23.959638  \n",
       "Angola                        9.223777  "
      ]
     },
     "execution_count": 57,
     "metadata": {},
     "output_type": "execute_result"
    }
   ],
   "source": [
    "imputer = KNNImputer(n_neighbors=5, weights='uniform', metric='nan_euclidean')\n",
    "imputer.fit(wb_df)\n",
    "wb_scrubbed = imputer.transform(wb_df)\n",
    "wb_df_scrubbed = pd.DataFrame(wb_scrubbed, columns=wb_df.columns)\n",
    "wb_df_scrubbed.index = wb_df.index\n",
    "wb_df_scrubbed.head()"
   ]
  },
  {
   "cell_type": "markdown",
   "metadata": {},
   "source": [
    "Confirm no missing values with wb_df_scrubbed.info()"
   ]
  },
  {
   "cell_type": "code",
   "execution_count": 58,
   "metadata": {},
   "outputs": [
    {
     "name": "stdout",
     "output_type": "stream",
     "text": [
      "<class 'pandas.core.frame.DataFrame'>\n",
      "Index: 195 entries, Afghanistan to Zimbabwe\n",
      "Data columns (total 10 columns):\n",
      " #   Column                                                              Non-Null Count  Dtype  \n",
      "---  ------                                                              --------------  -----  \n",
      " 0   Children out of school (% of primary school age)                    195 non-null    float64\n",
      " 1   Employment to population ratio, 15+, total (%) (national estimate)  195 non-null    float64\n",
      " 2   GDP growth (annual %)                                               195 non-null    float64\n",
      " 3   General government final consumption expenditure (% of GDP)         195 non-null    float64\n",
      " 4   Gross savings (% of GDP)                                            195 non-null    float64\n",
      " 5   Inflation, consumer prices (annual %)                               195 non-null    float64\n",
      " 6   Interest rate spread (lending rate minus deposit rate, %)           195 non-null    float64\n",
      " 7   Merchandise trade (% of GDP)                                        195 non-null    float64\n",
      " 8   Net investment in nonfinancial assets (% of GDP)                    195 non-null    float64\n",
      " 9   Tax revenue (% of GDP)                                              195 non-null    float64\n",
      "dtypes: float64(10)\n",
      "memory usage: 16.8+ KB\n"
     ]
    }
   ],
   "source": [
    "wb_df_scrubbed.info()"
   ]
  },
  {
   "cell_type": "markdown",
   "metadata": {},
   "source": [
    "Engineer 'Budget Defecit' feature from 'Tax revenue (% of GDP)' and 'General government final consumption expenditure (% of GDP)'"
   ]
  },
  {
   "cell_type": "code",
   "execution_count": 62,
   "metadata": {},
   "outputs": [
    {
     "ename": "SyntaxError",
     "evalue": "invalid syntax (<ipython-input-62-594663800679>, line 1)",
     "output_type": "error",
     "traceback": [
      "\u001b[0;36m  File \u001b[0;32m\"<ipython-input-62-594663800679>\"\u001b[0;36m, line \u001b[0;32m1\u001b[0m\n\u001b[0;31m    wb_df_scrubbed['Budget Deficit'] = wb_df_scrubbed['Tax revenue (% of GDP)'] -\u001b[0m\n\u001b[0m                                                                                 ^\u001b[0m\n\u001b[0;31mSyntaxError\u001b[0m\u001b[0;31m:\u001b[0m invalid syntax\n"
     ]
    }
   ],
   "source": [
    "wb_df_scrubbed['Budget Deficit'] = wb_df_scrubbed['Tax revenue (% of GDP)'] -\n",
    "                                   wb_df_scrubbed['General government final consumption expenditure (% of GDP)']\n",
    "wb_df_scrubbed.head()"
   ]
  },
  {
   "cell_type": "markdown",
   "metadata": {},
   "source": [
    "Confirm that data is scrubbed with wb_df.info()"
   ]
  },
  {
   "cell_type": "markdown",
   "metadata": {},
   "source": [
    "save scrubbed wb_df to csv file for use in modeling file"
   ]
  },
  {
   "cell_type": "code",
   "execution_count": 102,
   "metadata": {},
   "outputs": [],
   "source": [
    "wb_df.reset_index().to_csv('Scrubbed_wb_dataset.csv', index=False)"
   ]
  }
 ],
 "metadata": {
  "kernelspec": {
   "display_name": "Python 3",
   "language": "python",
   "name": "python3"
  },
  "language_info": {
   "codemirror_mode": {
    "name": "ipython",
    "version": 3
   },
   "file_extension": ".py",
   "mimetype": "text/x-python",
   "name": "python",
   "nbconvert_exporter": "python",
   "pygments_lexer": "ipython3",
   "version": "3.7.6"
  }
 },
 "nbformat": 4,
 "nbformat_minor": 4
}
