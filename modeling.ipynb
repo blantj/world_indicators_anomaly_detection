{
 "cells": [
  {
   "cell_type": "markdown",
   "metadata": {},
   "source": [
    "# Import libraries"
   ]
  },
  {
   "cell_type": "code",
   "execution_count": null,
   "metadata": {},
   "outputs": [],
   "source": [
    "from google.cloud import bigquery\n",
    "import os\n",
    "from google.oauth2 import service_account\n",
    "import pandas as pd"
   ]
  },
  {
   "cell_type": "markdown",
   "metadata": {},
   "source": [
    "# Obtain data"
   ]
  },
  {
   "cell_type": "markdown",
   "metadata": {},
   "source": [
    "Set up client connection to bigquery api"
   ]
  },
  {
   "cell_type": "code",
   "execution_count": 2,
   "metadata": {},
   "outputs": [],
   "source": [
    "os.environ[\"GOOGLE_APPLICATION_CREDENTIALS\"]= \"world-bank-indicators-3ccb8c5c2658.json\"\n",
    "client = bigquery.Client()"
   ]
  },
  {
   "cell_type": "markdown",
   "metadata": {},
   "source": [
    "Get bigquery 'World Bank WDI' dataset"
   ]
  },
  {
   "cell_type": "code",
   "execution_count": 3,
   "metadata": {},
   "outputs": [],
   "source": [
    "dataset_id = client.dataset(\"world_bank_wdi\", project=\"bigquery-public-data\")\n",
    "dataset = client.get_dataset(dataset_id)"
   ]
  },
  {
   "cell_type": "markdown",
   "metadata": {},
   "source": [
    "View tables in dataset"
   ]
  },
  {
   "cell_type": "code",
   "execution_count": 4,
   "metadata": {},
   "outputs": [
    {
     "name": "stdout",
     "output_type": "stream",
     "text": [
      "country_series_definitions\n",
      "country_summary\n",
      "footnotes\n",
      "indicators_data\n",
      "series_summary\n",
      "series_time\n"
     ]
    }
   ],
   "source": [
    "tables = list(client.list_tables(dataset))\n",
    "for table in tables:\n",
    "    print(table.table_id)"
   ]
  },
  {
   "cell_type": "markdown",
   "metadata": {},
   "source": [
    "View indicators_data table"
   ]
  },
  {
   "cell_type": "code",
   "execution_count": 5,
   "metadata": {},
   "outputs": [
    {
     "name": "stdout",
     "output_type": "stream",
     "text": [
      "                                                   0\n",
      "0  SchemaField('country_name', 'STRING', 'NULLABL...\n",
      "1  SchemaField('country_code', 'STRING', 'NULLABL...\n",
      "2  SchemaField('indicator_name', 'STRING', 'NULLA...\n",
      "3  SchemaField('indicator_code', 'STRING', 'NULLA...\n",
      "4  SchemaField('value', 'FLOAT', 'NULLABLE', '', ...\n",
      "5  SchemaField('year', 'INTEGER', 'NULLABLE', '',...\n"
     ]
    },
    {
     "name": "stderr",
     "output_type": "stream",
     "text": [
      "/Users/blantj/opt/anaconda3/lib/python3.7/site-packages/google/cloud/bigquery/table.py:1690: UserWarning: Cannot use bqstorage_client if max_results is set, reverting to fetching data with the REST endpoint.\n",
      "  if not self._validate_bqstorage(bqstorage_client, create_bqstorage_client):\n"
     ]
    },
    {
     "data": {
      "text/html": [
       "<div>\n",
       "<style scoped>\n",
       "    .dataframe tbody tr th:only-of-type {\n",
       "        vertical-align: middle;\n",
       "    }\n",
       "\n",
       "    .dataframe tbody tr th {\n",
       "        vertical-align: top;\n",
       "    }\n",
       "\n",
       "    .dataframe thead th {\n",
       "        text-align: right;\n",
       "    }\n",
       "</style>\n",
       "<table border=\"1\" class=\"dataframe\">\n",
       "  <thead>\n",
       "    <tr style=\"text-align: right;\">\n",
       "      <th></th>\n",
       "      <th>country_name</th>\n",
       "      <th>country_code</th>\n",
       "      <th>indicator_name</th>\n",
       "      <th>indicator_code</th>\n",
       "      <th>value</th>\n",
       "      <th>year</th>\n",
       "    </tr>\n",
       "  </thead>\n",
       "  <tbody>\n",
       "    <tr>\n",
       "      <th>0</th>\n",
       "      <td>Arab World</td>\n",
       "      <td>ARB</td>\n",
       "      <td>Access to electricity, rural (% of rural popul...</td>\n",
       "      <td>EG.ELC.ACCS.RU.ZS</td>\n",
       "      <td>66.246450</td>\n",
       "      <td>2002</td>\n",
       "    </tr>\n",
       "    <tr>\n",
       "      <th>1</th>\n",
       "      <td>Arab World</td>\n",
       "      <td>ARB</td>\n",
       "      <td>Access to electricity, urban (% of urban popul...</td>\n",
       "      <td>EG.ELC.ACCS.UR.ZS</td>\n",
       "      <td>96.466705</td>\n",
       "      <td>2014</td>\n",
       "    </tr>\n",
       "    <tr>\n",
       "      <th>2</th>\n",
       "      <td>Arab World</td>\n",
       "      <td>ARB</td>\n",
       "      <td>Adjusted net enrollment rate, primary (% of pr...</td>\n",
       "      <td>SE.PRM.TENR</td>\n",
       "      <td>81.972760</td>\n",
       "      <td>2005</td>\n",
       "    </tr>\n",
       "    <tr>\n",
       "      <th>3</th>\n",
       "      <td>Arab World</td>\n",
       "      <td>ARB</td>\n",
       "      <td>Adjusted net national income per capita (curre...</td>\n",
       "      <td>NY.ADJ.NNTY.PC.CD</td>\n",
       "      <td>5892.763208</td>\n",
       "      <td>2012</td>\n",
       "    </tr>\n",
       "    <tr>\n",
       "      <th>4</th>\n",
       "      <td>Arab World</td>\n",
       "      <td>ARB</td>\n",
       "      <td>Adjusted net savings, including particulate em...</td>\n",
       "      <td>NY.ADJ.SVNG.GN.ZS</td>\n",
       "      <td>12.782944</td>\n",
       "      <td>2018</td>\n",
       "    </tr>\n",
       "  </tbody>\n",
       "</table>\n",
       "</div>"
      ],
      "text/plain": [
       "  country_name country_code  \\\n",
       "0   Arab World          ARB   \n",
       "1   Arab World          ARB   \n",
       "2   Arab World          ARB   \n",
       "3   Arab World          ARB   \n",
       "4   Arab World          ARB   \n",
       "\n",
       "                                      indicator_name     indicator_code  \\\n",
       "0  Access to electricity, rural (% of rural popul...  EG.ELC.ACCS.RU.ZS   \n",
       "1  Access to electricity, urban (% of urban popul...  EG.ELC.ACCS.UR.ZS   \n",
       "2  Adjusted net enrollment rate, primary (% of pr...        SE.PRM.TENR   \n",
       "3  Adjusted net national income per capita (curre...  NY.ADJ.NNTY.PC.CD   \n",
       "4  Adjusted net savings, including particulate em...  NY.ADJ.SVNG.GN.ZS   \n",
       "\n",
       "         value  year  \n",
       "0    66.246450  2002  \n",
       "1    96.466705  2014  \n",
       "2    81.972760  2005  \n",
       "3  5892.763208  2012  \n",
       "4    12.782944  2018  "
      ]
     },
     "execution_count": 5,
     "metadata": {},
     "output_type": "execute_result"
    }
   ],
   "source": [
    "table_id = dataset_id.table(\"indicators_data\")\n",
    "table = client.get_table(table_id)\n",
    "print(pd.DataFrame(table.schema))\n",
    "client.list_rows(table, max_results=5).to_dataframe()"
   ]
  },
  {
   "cell_type": "markdown",
   "metadata": {},
   "source": [
    "Query data"
   ]
  },
  {
   "cell_type": "code",
   "execution_count": 8,
   "metadata": {},
   "outputs": [
    {
     "name": "stderr",
     "output_type": "stream",
     "text": [
      "/Users/blantj/opt/anaconda3/lib/python3.7/site-packages/google/cloud/bigquery/client.py:441: UserWarning: Cannot create BigQuery Storage client, the dependency google-cloud-bigquery-storage is not installed.\n",
      "  \"Cannot create BigQuery Storage client, the dependency \"\n"
     ]
    }
   ],
   "source": [
    "indicators_query = \"\"\"\n",
    "        SELECT *\n",
    "        FROM `bigquery-public-data.world_bank_wdi.indicators_data`\n",
    "        WHERE indicator_name IN ('Adjusted net national income per capita (current US$)', \n",
    "                                 'Air transport, passengers carried',\n",
    "                                 'Inflation, consumer prices (annual %)',\n",
    "                                 'Labor force, female (% of total labor force)',\n",
    "                                 'Urban population (% of total population)',\n",
    "                                 'Population growth (annual %)',\n",
    "                                 'Employment in services (% of total employment) (modeled ILO estimate)',\n",
    "                                 'Total debt service (% of GNI)',\n",
    "                                 'Compulsory education, duration (years)',\n",
    "                                 'Gross savings (% of GNI)',\n",
    "                                 'Hospital beds (per 1,000 people)')\"\"\"\n",
    "indicators_query_job = client.query(indicators_query)\n",
    "indicators_df = indicators_query_job.to_dataframe()\n",
    "indicators_df.to_csv('dataset.csv', index=False)"
   ]
  },
  {
   "cell_type": "code",
   "execution_count": null,
   "metadata": {},
   "outputs": [],
   "source": []
  },
  {
   "cell_type": "code",
   "execution_count": 12,
   "metadata": {},
   "outputs": [
    {
     "data": {
      "text/html": [
       "<div>\n",
       "<style scoped>\n",
       "    .dataframe tbody tr th:only-of-type {\n",
       "        vertical-align: middle;\n",
       "    }\n",
       "\n",
       "    .dataframe tbody tr th {\n",
       "        vertical-align: top;\n",
       "    }\n",
       "\n",
       "    .dataframe thead th {\n",
       "        text-align: right;\n",
       "    }\n",
       "</style>\n",
       "<table border=\"1\" class=\"dataframe\">\n",
       "  <thead>\n",
       "    <tr style=\"text-align: right;\">\n",
       "      <th></th>\n",
       "      <th>country_name</th>\n",
       "      <th>country_code</th>\n",
       "      <th>indicator_name</th>\n",
       "      <th>indicator_code</th>\n",
       "      <th>value</th>\n",
       "      <th>year</th>\n",
       "    </tr>\n",
       "  </thead>\n",
       "  <tbody>\n",
       "    <tr>\n",
       "      <th>0</th>\n",
       "      <td>East Asia &amp; Pacific (excluding high income)</td>\n",
       "      <td>EAP</td>\n",
       "      <td>Gross savings (% of GNI)</td>\n",
       "      <td>NY.GNS.ICTR.GN.ZS</td>\n",
       "      <td>35.555550</td>\n",
       "      <td>1996</td>\n",
       "    </tr>\n",
       "    <tr>\n",
       "      <th>1</th>\n",
       "      <td>East Asia &amp; Pacific (excluding high income)</td>\n",
       "      <td>EAP</td>\n",
       "      <td>Gross savings (% of GNI)</td>\n",
       "      <td>NY.GNS.ICTR.GN.ZS</td>\n",
       "      <td>34.845872</td>\n",
       "      <td>2000</td>\n",
       "    </tr>\n",
       "    <tr>\n",
       "      <th>2</th>\n",
       "      <td>Eritrea</td>\n",
       "      <td>ERI</td>\n",
       "      <td>Gross savings (% of GNI)</td>\n",
       "      <td>NY.GNS.ICTR.GN.ZS</td>\n",
       "      <td>17.164867</td>\n",
       "      <td>1999</td>\n",
       "    </tr>\n",
       "    <tr>\n",
       "      <th>3</th>\n",
       "      <td>Guinea-Bissau</td>\n",
       "      <td>GNB</td>\n",
       "      <td>Gross savings (% of GNI)</td>\n",
       "      <td>NY.GNS.ICTR.GN.ZS</td>\n",
       "      <td>5.103593</td>\n",
       "      <td>2009</td>\n",
       "    </tr>\n",
       "    <tr>\n",
       "      <th>4</th>\n",
       "      <td>Hungary</td>\n",
       "      <td>HUN</td>\n",
       "      <td>Gross savings (% of GNI)</td>\n",
       "      <td>NY.GNS.ICTR.GN.ZS</td>\n",
       "      <td>20.204166</td>\n",
       "      <td>1995</td>\n",
       "    </tr>\n",
       "    <tr>\n",
       "      <th>...</th>\n",
       "      <td>...</td>\n",
       "      <td>...</td>\n",
       "      <td>...</td>\n",
       "      <td>...</td>\n",
       "      <td>...</td>\n",
       "      <td>...</td>\n",
       "    </tr>\n",
       "    <tr>\n",
       "      <th>95752</th>\n",
       "      <td>Dominican Republic</td>\n",
       "      <td>DOM</td>\n",
       "      <td>Employment in services (% of total employment)...</td>\n",
       "      <td>SL.SRV.EMPL.ZS</td>\n",
       "      <td>63.741001</td>\n",
       "      <td>2005</td>\n",
       "    </tr>\n",
       "    <tr>\n",
       "      <th>95753</th>\n",
       "      <td>Dominican Republic</td>\n",
       "      <td>DOM</td>\n",
       "      <td>Employment in services (% of total employment)...</td>\n",
       "      <td>SL.SRV.EMPL.ZS</td>\n",
       "      <td>69.791000</td>\n",
       "      <td>2011</td>\n",
       "    </tr>\n",
       "    <tr>\n",
       "      <th>95754</th>\n",
       "      <td>Dominican Republic</td>\n",
       "      <td>DOM</td>\n",
       "      <td>Employment in services (% of total employment)...</td>\n",
       "      <td>SL.SRV.EMPL.ZS</td>\n",
       "      <td>63.525002</td>\n",
       "      <td>2003</td>\n",
       "    </tr>\n",
       "    <tr>\n",
       "      <th>95755</th>\n",
       "      <td>Dominican Republic</td>\n",
       "      <td>DOM</td>\n",
       "      <td>Employment in services (% of total employment)...</td>\n",
       "      <td>SL.SRV.EMPL.ZS</td>\n",
       "      <td>65.867996</td>\n",
       "      <td>2008</td>\n",
       "    </tr>\n",
       "    <tr>\n",
       "      <th>95756</th>\n",
       "      <td>Dominican Republic</td>\n",
       "      <td>DOM</td>\n",
       "      <td>Employment in services (% of total employment)...</td>\n",
       "      <td>SL.SRV.EMPL.ZS</td>\n",
       "      <td>71.823997</td>\n",
       "      <td>2013</td>\n",
       "    </tr>\n",
       "  </tbody>\n",
       "</table>\n",
       "<p>95757 rows × 6 columns</p>\n",
       "</div>"
      ],
      "text/plain": [
       "                                      country_name country_code  \\\n",
       "0      East Asia & Pacific (excluding high income)          EAP   \n",
       "1      East Asia & Pacific (excluding high income)          EAP   \n",
       "2                                          Eritrea          ERI   \n",
       "3                                    Guinea-Bissau          GNB   \n",
       "4                                          Hungary          HUN   \n",
       "...                                            ...          ...   \n",
       "95752                           Dominican Republic          DOM   \n",
       "95753                           Dominican Republic          DOM   \n",
       "95754                           Dominican Republic          DOM   \n",
       "95755                           Dominican Republic          DOM   \n",
       "95756                           Dominican Republic          DOM   \n",
       "\n",
       "                                          indicator_name     indicator_code  \\\n",
       "0                               Gross savings (% of GNI)  NY.GNS.ICTR.GN.ZS   \n",
       "1                               Gross savings (% of GNI)  NY.GNS.ICTR.GN.ZS   \n",
       "2                               Gross savings (% of GNI)  NY.GNS.ICTR.GN.ZS   \n",
       "3                               Gross savings (% of GNI)  NY.GNS.ICTR.GN.ZS   \n",
       "4                               Gross savings (% of GNI)  NY.GNS.ICTR.GN.ZS   \n",
       "...                                                  ...                ...   \n",
       "95752  Employment in services (% of total employment)...     SL.SRV.EMPL.ZS   \n",
       "95753  Employment in services (% of total employment)...     SL.SRV.EMPL.ZS   \n",
       "95754  Employment in services (% of total employment)...     SL.SRV.EMPL.ZS   \n",
       "95755  Employment in services (% of total employment)...     SL.SRV.EMPL.ZS   \n",
       "95756  Employment in services (% of total employment)...     SL.SRV.EMPL.ZS   \n",
       "\n",
       "           value  year  \n",
       "0      35.555550  1996  \n",
       "1      34.845872  2000  \n",
       "2      17.164867  1999  \n",
       "3       5.103593  2009  \n",
       "4      20.204166  1995  \n",
       "...          ...   ...  \n",
       "95752  63.741001  2005  \n",
       "95753  69.791000  2011  \n",
       "95754  63.525002  2003  \n",
       "95755  65.867996  2008  \n",
       "95756  71.823997  2013  \n",
       "\n",
       "[95757 rows x 6 columns]"
      ]
     },
     "execution_count": 12,
     "metadata": {},
     "output_type": "execute_result"
    }
   ],
   "source": [
    "indicators_df"
   ]
  },
  {
   "cell_type": "code",
   "execution_count": null,
   "metadata": {},
   "outputs": [],
   "source": [
    "df.head()"
   ]
  },
  {
   "cell_type": "code",
   "execution_count": null,
   "metadata": {},
   "outputs": [],
   "source": [
    "table1_id = dataset_id.table(\"country_series_definitions\")\n",
    "table1 = client.get_table(table1_id)\n",
    "print(pd.DataFrame(table.schema))\n",
    "client.list_rows(table, max_results=5).to_dataframe()"
   ]
  },
  {
   "cell_type": "code",
   "execution_count": null,
   "metadata": {},
   "outputs": [],
   "source": []
  }
 ],
 "metadata": {
  "kernelspec": {
   "display_name": "Python 3",
   "language": "python",
   "name": "python3"
  },
  "language_info": {
   "codemirror_mode": {
    "name": "ipython",
    "version": 3
   },
   "file_extension": ".py",
   "mimetype": "text/x-python",
   "name": "python",
   "nbconvert_exporter": "python",
   "pygments_lexer": "ipython3",
   "version": "3.7.6"
  }
 },
 "nbformat": 4,
 "nbformat_minor": 4
}
